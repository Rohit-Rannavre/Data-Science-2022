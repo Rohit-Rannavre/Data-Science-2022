{
  "nbformat": 4,
  "nbformat_minor": 0,
  "metadata": {
    "colab": {
      "name": "CNN_Fashion_MNIST.ipynb",
      "provenance": [],
      "collapsed_sections": [],
      "authorship_tag": "ABX9TyNJrFldoIVR5U9fIykdbiIv",
      "include_colab_link": true
    },
    "kernelspec": {
      "name": "python3",
      "display_name": "Python 3"
    },
    "language_info": {
      "name": "python"
    },
    "accelerator": "GPU",
    "gpuClass": "standard"
  },
  "cells": [
    {
      "cell_type": "markdown",
      "metadata": {
        "id": "view-in-github",
        "colab_type": "text"
      },
      "source": [
        "<a href=\"https://colab.research.google.com/github/Rohit-Rannavre/Data-Science-2022/blob/main/CNN_Fashion_MNIST.ipynb\" target=\"_parent\"><img src=\"https://colab.research.google.com/assets/colab-badge.svg\" alt=\"Open In Colab\"/></a>"
      ]
    },
    {
      "cell_type": "markdown",
      "source": [
        "### **Importing Libraries**"
      ],
      "metadata": {
        "id": "4oiOpAeBP9FE"
      }
    },
    {
      "cell_type": "code",
      "source": [
        "import numpy as np\n",
        "import seaborn as sns\n",
        "import matplotlib.pyplot as plt\n",
        "from sklearn.model_selection import train_test_split\n",
        "from sklearn.metrics import confusion_matrix, classification_report\n",
        "from keras.models import Sequential\n",
        "from keras.layers import Conv2D, MaxPooling2D, Flatten, Dense\n",
        "from keras.datasets import fashion_mnist"
      ],
      "metadata": {
        "id": "EwDjvM84KYNx"
      },
      "execution_count": null,
      "outputs": []
    },
    {
      "cell_type": "markdown",
      "source": [
        "### **Loading Dataset**"
      ],
      "metadata": {
        "id": "GvxV_QEJQ0I-"
      }
    },
    {
      "cell_type": "code",
      "source": [
        "(X_train, y_train), (X_test, y_test) =  fashion_mnist.load_data()"
      ],
      "metadata": {
        "id": "ATIn2OCcQ4ZU"
      },
      "execution_count": null,
      "outputs": []
    },
    {
      "cell_type": "markdown",
      "source": [
        "### **Checking the shape of the data**"
      ],
      "metadata": {
        "id": "xy5dnl_nXARA"
      }
    },
    {
      "cell_type": "code",
      "source": [
        "X_train.shape, y_train.shape"
      ],
      "metadata": {
        "colab": {
          "base_uri": "https://localhost:8080/"
        },
        "id": "xHJbToXCRSdt",
        "outputId": "88337930-26cb-4c07-ab62-0458229f8c19"
      },
      "execution_count": null,
      "outputs": [
        {
          "output_type": "execute_result",
          "data": {
            "text/plain": [
              "((60000, 28, 28), (60000,))"
            ]
          },
          "metadata": {},
          "execution_count": 3
        }
      ]
    },
    {
      "cell_type": "code",
      "source": [
        "X_test.shape, y_test.shape"
      ],
      "metadata": {
        "colab": {
          "base_uri": "https://localhost:8080/"
        },
        "id": "qJNgD1NERtf3",
        "outputId": "5e8ff2dd-4ac3-40eb-c377-bdbd14d1eac3"
      },
      "execution_count": null,
      "outputs": [
        {
          "output_type": "execute_result",
          "data": {
            "text/plain": [
              "((10000, 28, 28), (10000,))"
            ]
          },
          "metadata": {},
          "execution_count": 4
        }
      ]
    },
    {
      "cell_type": "markdown",
      "source": [
        "### **Changing the dimentions of data**"
      ],
      "metadata": {
        "id": "XBLdZMcSXSjy"
      }
    },
    {
      "cell_type": "code",
      "source": [
        "X_train = np.expand_dims(X_train, -1)\n",
        "X_test = np.expand_dims(X_test, -1)"
      ],
      "metadata": {
        "id": "nd0bR76MU1QX"
      },
      "execution_count": null,
      "outputs": []
    },
    {
      "cell_type": "code",
      "source": [
        "X_train.shape, X_test.shape"
      ],
      "metadata": {
        "colab": {
          "base_uri": "https://localhost:8080/"
        },
        "id": "w29O5D4JWWgT",
        "outputId": "660e8e56-d6e1-4498-8577-61c4947df36c"
      },
      "execution_count": null,
      "outputs": [
        {
          "output_type": "execute_result",
          "data": {
            "text/plain": [
              "((60000, 28, 28, 1), (10000, 28, 28, 1))"
            ]
          },
          "metadata": {},
          "execution_count": 6
        }
      ]
    },
    {
      "cell_type": "markdown",
      "source": [
        "### **Feature scaling**"
      ],
      "metadata": {
        "id": "X9Raytwvau8R"
      }
    },
    {
      "cell_type": "code",
      "source": [
        "X_train = X_train/255\n",
        "X_test = X_test/255"
      ],
      "metadata": {
        "id": "3G35TkQXYiBG"
      },
      "execution_count": null,
      "outputs": []
    },
    {
      "cell_type": "markdown",
      "source": [
        "### **Splitting the dataset**"
      ],
      "metadata": {
        "id": "oFwqjjJacv7u"
      }
    },
    {
      "cell_type": "code",
      "source": [
        "X_train, X_val, y_train, y_val = train_test_split(X_train, y_train, test_size = 0.2, random_state = 20)"
      ],
      "metadata": {
        "id": "CLk_L7W_csRE"
      },
      "execution_count": null,
      "outputs": []
    },
    {
      "cell_type": "code",
      "source": [
        "X_train.shape, y_train.shape"
      ],
      "metadata": {
        "colab": {
          "base_uri": "https://localhost:8080/"
        },
        "id": "-7zzVCV9ytke",
        "outputId": "f86dc517-460b-46c6-a68f-4c7d6f2b6312"
      },
      "execution_count": null,
      "outputs": [
        {
          "output_type": "execute_result",
          "data": {
            "text/plain": [
              "((48000, 28, 28, 1), (48000,))"
            ]
          },
          "metadata": {},
          "execution_count": 9
        }
      ]
    },
    {
      "cell_type": "code",
      "source": [
        "X_val.shape, y_val.shape"
      ],
      "metadata": {
        "colab": {
          "base_uri": "https://localhost:8080/"
        },
        "id": "f1apPMzIzGaT",
        "outputId": "6f0b0791-ee9d-44d3-aaca-9e23872a305c"
      },
      "execution_count": null,
      "outputs": [
        {
          "output_type": "execute_result",
          "data": {
            "text/plain": [
              "((12000, 28, 28, 1), (12000,))"
            ]
          },
          "metadata": {},
          "execution_count": 10
        }
      ]
    },
    {
      "cell_type": "markdown",
      "source": [
        "### **Building a CNN**"
      ],
      "metadata": {
        "id": "Pg9s10pGewZk"
      }
    },
    {
      "cell_type": "code",
      "source": [
        "model = Sequential([\n",
        "                    # 1st convo layer\n",
        "                    Conv2D(filters = 32, kernel_size = (3,3), activation = 'relu', input_shape = [28, 28, 1]),\n",
        "                    MaxPooling2D(pool_size = (2,2)),\n",
        "                    \n",
        "                    # 2nd convo layer\n",
        "                    Conv2D(filters = 16, kernel_size = (3,3), activation = 'relu'),\n",
        "                    MaxPooling2D(pool_size = (2,2)),\n",
        "\n",
        "                    # fattening\n",
        "                    Flatten(),\n",
        "\n",
        "                    # fully-connected layers\n",
        "                    Dense(units = 128, activation='relu'),  # input\n",
        "                    Dense(units = 48, activation='relu'),  # hidden-1\n",
        "                    Dense(units = 24, activation='relu'),  # hidden-2\n",
        "                    Dense(units = 10, activation='softmax')  # output\n",
        "])"
      ],
      "metadata": {
        "id": "CkHl8wt8eOGq"
      },
      "execution_count": null,
      "outputs": []
    },
    {
      "cell_type": "code",
      "source": [
        "model.summary()"
      ],
      "metadata": {
        "colab": {
          "base_uri": "https://localhost:8080/"
        },
        "id": "wP5cSwqZmbZ2",
        "outputId": "c30b9e1c-bedc-4581-88cf-b15613e59060"
      },
      "execution_count": null,
      "outputs": [
        {
          "output_type": "stream",
          "name": "stdout",
          "text": [
            "Model: \"sequential\"\n",
            "_________________________________________________________________\n",
            " Layer (type)                Output Shape              Param #   \n",
            "=================================================================\n",
            " conv2d (Conv2D)             (None, 26, 26, 32)        320       \n",
            "                                                                 \n",
            " max_pooling2d (MaxPooling2D  (None, 13, 13, 32)       0         \n",
            " )                                                               \n",
            "                                                                 \n",
            " conv2d_1 (Conv2D)           (None, 11, 11, 16)        4624      \n",
            "                                                                 \n",
            " max_pooling2d_1 (MaxPooling  (None, 5, 5, 16)         0         \n",
            " 2D)                                                             \n",
            "                                                                 \n",
            " flatten (Flatten)           (None, 400)               0         \n",
            "                                                                 \n",
            " dense (Dense)               (None, 128)               51328     \n",
            "                                                                 \n",
            " dense_1 (Dense)             (None, 48)                6192      \n",
            "                                                                 \n",
            " dense_2 (Dense)             (None, 24)                1176      \n",
            "                                                                 \n",
            " dense_3 (Dense)             (None, 10)                250       \n",
            "                                                                 \n",
            "=================================================================\n",
            "Total params: 63,890\n",
            "Trainable params: 63,890\n",
            "Non-trainable params: 0\n",
            "_________________________________________________________________\n"
          ]
        }
      ]
    },
    {
      "cell_type": "code",
      "source": [
        "model.compile(optimizer='adam', loss = 'sparse_categorical_crossentropy', metrics = ['accuracy'])"
      ],
      "metadata": {
        "id": "QNr6l_UvmesU"
      },
      "execution_count": null,
      "outputs": []
    },
    {
      "cell_type": "code",
      "source": [
        "model.fit(X_train, y_train, validation_data = (X_val, y_val), epochs = 10, batch_size = 512, verbose=1)"
      ],
      "metadata": {
        "colab": {
          "base_uri": "https://localhost:8080/"
        },
        "id": "Q8W1KqrbrBsL",
        "outputId": "b24ce5f6-8c8c-4d82-893f-a3462a990b3c"
      },
      "execution_count": null,
      "outputs": [
        {
          "output_type": "stream",
          "name": "stdout",
          "text": [
            "Epoch 1/10\n",
            "94/94 [==============================] - 6s 22ms/step - loss: 1.2441 - accuracy: 0.5575 - val_loss: 0.6315 - val_accuracy: 0.7649\n",
            "Epoch 2/10\n",
            "94/94 [==============================] - 1s 14ms/step - loss: 0.5699 - accuracy: 0.7869 - val_loss: 0.5288 - val_accuracy: 0.7996\n",
            "Epoch 3/10\n",
            "94/94 [==============================] - 1s 13ms/step - loss: 0.4918 - accuracy: 0.8211 - val_loss: 0.4930 - val_accuracy: 0.8148\n",
            "Epoch 4/10\n",
            "94/94 [==============================] - 1s 15ms/step - loss: 0.4587 - accuracy: 0.8335 - val_loss: 0.4351 - val_accuracy: 0.8414\n",
            "Epoch 5/10\n",
            "94/94 [==============================] - 1s 16ms/step - loss: 0.4254 - accuracy: 0.8462 - val_loss: 0.4136 - val_accuracy: 0.8501\n",
            "Epoch 6/10\n",
            "94/94 [==============================] - 1s 14ms/step - loss: 0.4030 - accuracy: 0.8530 - val_loss: 0.3973 - val_accuracy: 0.8553\n",
            "Epoch 7/10\n",
            "94/94 [==============================] - 1s 15ms/step - loss: 0.3833 - accuracy: 0.8604 - val_loss: 0.3838 - val_accuracy: 0.8593\n",
            "Epoch 8/10\n",
            "94/94 [==============================] - 1s 14ms/step - loss: 0.3690 - accuracy: 0.8666 - val_loss: 0.3737 - val_accuracy: 0.8618\n",
            "Epoch 9/10\n",
            "94/94 [==============================] - 1s 11ms/step - loss: 0.3621 - accuracy: 0.8686 - val_loss: 0.3694 - val_accuracy: 0.8618\n",
            "Epoch 10/10\n",
            "94/94 [==============================] - 1s 10ms/step - loss: 0.3415 - accuracy: 0.8766 - val_loss: 0.3536 - val_accuracy: 0.8710\n"
          ]
        },
        {
          "output_type": "execute_result",
          "data": {
            "text/plain": [
              "<keras.callbacks.History at 0x7f2c40533490>"
            ]
          },
          "metadata": {},
          "execution_count": 14
        }
      ]
    },
    {
      "cell_type": "markdown",
      "source": [
        "### **Testing the model**"
      ],
      "metadata": {
        "id": "9XPzLmWR98g6"
      }
    },
    {
      "cell_type": "code",
      "source": [
        "predicted = np.argmax(model.predict(np.expand_dims(a = X_test[0], axis = 0)).round(2))\n",
        "actual = y_test[0]\n",
        "\n",
        "print('Predicted: ', predicted)\n",
        "print('Actual: ', actual)"
      ],
      "metadata": {
        "colab": {
          "base_uri": "https://localhost:8080/"
        },
        "id": "q3WEs58t9Imw",
        "outputId": "6694a25d-4f43-486e-8c46-c93adeb6dabc"
      },
      "execution_count": null,
      "outputs": [
        {
          "output_type": "stream",
          "name": "stdout",
          "text": [
            "Predicted:  9\n",
            "Actual:  9\n"
          ]
        }
      ]
    },
    {
      "cell_type": "markdown",
      "source": [
        "### **Evaluating the model**"
      ],
      "metadata": {
        "id": "7Zo-I7of8Ly_"
      }
    },
    {
      "cell_type": "code",
      "source": [
        "model.evaluate(X_test, y_test)"
      ],
      "metadata": {
        "colab": {
          "base_uri": "https://localhost:8080/"
        },
        "id": "Glrb-QFBsnqr",
        "outputId": "4f689b1b-00dd-41d2-da8b-be025e1f9088"
      },
      "execution_count": null,
      "outputs": [
        {
          "output_type": "stream",
          "name": "stdout",
          "text": [
            "313/313 [==============================] - 1s 3ms/step - loss: 0.3766 - accuracy: 0.8621\n"
          ]
        },
        {
          "output_type": "execute_result",
          "data": {
            "text/plain": [
              "[0.37656262516975403, 0.8621000051498413]"
            ]
          },
          "metadata": {},
          "execution_count": 16
        }
      ]
    },
    {
      "cell_type": "code",
      "source": [
        "# confusion matrix\n",
        "\n",
        "class_labels = ['0: T-shirt/Top', '1: Trouser', '2: Pullover', '3: Dress', '4: Coat', \n",
        "                '5: Sandal', '6: Shirt', '7: Sneaker', '8: Bag', '9: Ankle Boot']\n",
        "\n",
        "y_pred = model.predict(X_test).round(2)\n",
        "y_pred_labels = [np.argmax(label) for label in y_pred]\n",
        "\n",
        "cm = confusion_matrix(y_test, y_pred_labels)\n",
        "\n",
        "plt.figure(figsize=(10,8))\n",
        "sns.heatmap(cm, annot = True, fmt='d', square = True, linewidth=1, cmap='viridis', xticklabels = class_labels, yticklabels= class_labels);"
      ],
      "metadata": {
        "colab": {
          "base_uri": "https://localhost:8080/",
          "height": 539
        },
        "id": "k3ZYj5646nV8",
        "outputId": "07bda74b-8636-47f9-9949-cd53e57ed6ec"
      },
      "execution_count": null,
      "outputs": [
        {
          "output_type": "display_data",
          "data": {
            "text/plain": [
              "<Figure size 720x576 with 2 Axes>"
            ],
            "image/png": "[encoded data removed]"
          },
          "metadata": {
            "needs_background": "light"
          }
        }
      ]
    },
    {
      "cell_type": "code",
      "source": [
        "# classification report\n",
        "class_report = classification_report(y_test, y_pred_labels, target_names = class_labels)\n",
        "print(class_report) "
      ],
      "metadata": {
        "colab": {
          "base_uri": "https://localhost:8080/"
        },
        "id": "aaGwLFo1C5IT",
        "outputId": "e4870fb0-55da-4d51-faa4-d2c31cfef36e"
      },
      "execution_count": null,
      "outputs": [
        {
          "output_type": "stream",
          "name": "stdout",
          "text": [
            "                precision    recall  f1-score   support\n",
            "\n",
            "0: T-shirt/Top       0.86      0.73      0.79      1000\n",
            "    1: Trouser       0.99      0.96      0.98      1000\n",
            "   2: Pullover       0.78      0.77      0.78      1000\n",
            "      3: Dress       0.89      0.86      0.87      1000\n",
            "       4: Coat       0.73      0.82      0.77      1000\n",
            "     5: Sandal       0.94      0.98      0.96      1000\n",
            "      6: Shirt       0.61      0.68      0.64      1000\n",
            "    7: Sneaker       0.96      0.90      0.93      1000\n",
            "        8: Bag       0.96      0.96      0.96      1000\n",
            " 9: Ankle Boot       0.95      0.96      0.96      1000\n",
            "\n",
            "      accuracy                           0.86     10000\n",
            "     macro avg       0.87      0.86      0.86     10000\n",
            "  weighted avg       0.87      0.86      0.86     10000\n",
            "\n"
          ]
        }
      ]
    },
    {
      "cell_type": "code",
      "source": [
        "model.save('CNN_fashion_mnist.h5')"
      ],
      "metadata": {
        "id": "Mbm_ArVjGfvo"
      },
      "execution_count": null,
      "outputs": []
    },
    {
      "cell_type": "code",
      "source": [
        "from keras.models import load_model\n",
        "data = load_model('CNN_fashion_mnist.h5')\n",
        "np.argmax(data.predict(np.expand_dims(a = X_test[0], axis = 0).round(2)))"
      ],
      "metadata": {
        "colab": {
          "base_uri": "https://localhost:8080/"
        },
        "id": "EqtigX7qTROa",
        "outputId": "d799c441-8de4-4527-8498-a50ffc5f6caf"
      },
      "execution_count": null,
      "outputs": [
        {
          "output_type": "stream",
          "name": "stdout",
          "text": [
            "WARNING:tensorflow:5 out of the last 318 calls to <function Model.make_predict_function.<locals>.predict_function at 0x7f2bb8fb94d0> triggered tf.function retracing. Tracing is expensive and the excessive number of tracings could be due to (1) creating @tf.function repeatedly in a loop, (2) passing tensors with different shapes, (3) passing Python objects instead of tensors. For (1), please define your @tf.function outside of the loop. For (2), @tf.function has experimental_relax_shapes=True option that relaxes argument shapes that can avoid unnecessary retracing. For (3), please refer to https://www.tensorflow.org/guide/function#controlling_retracing and https://www.tensorflow.org/api_docs/python/tf/function for  more details.\n"
          ]
        },
        {
          "output_type": "execute_result",
          "data": {
            "text/plain": [
              "9"
            ]
          },
          "metadata": {},
          "execution_count": 32
        }
      ]
    },
    {
      "cell_type": "code",
      "source": [
        "y_test[0]"
      ],
      "metadata": {
        "colab": {
          "base_uri": "https://localhost:8080/"
        },
        "id": "oUawp4_laIbr",
        "outputId": "66c14d1f-2316-4b3c-9ab8-922b5d561e54"
      },
      "execution_count": null,
      "outputs": [
        {
          "output_type": "execute_result",
          "data": {
            "text/plain": [
              "9"
            ]
          },
          "metadata": {},
          "execution_count": 33
        }
      ]
    },
    {
      "cell_type": "code",
      "source": [
        ""
      ],
      "metadata": {
        "id": "kHuhRm54bXeS"
      },
      "execution_count": null,
      "outputs": []
    }
  ]
}