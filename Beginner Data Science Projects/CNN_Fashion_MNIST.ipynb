{
  "nbformat": 4,
  "nbformat_minor": 0,
  "metadata": {
    "colab": {
      "provenance": []
    },
    "kernelspec": {
      "name": "python3",
      "display_name": "Python 3"
    },
    "language_info": {
      "name": "python"
    },
    "accelerator": "GPU",
    "gpuClass": "standard"
  },
  "cells": [
    {
      "cell_type": "markdown",
      "source": [
        "### **Importing Libraries**"
      ],
      "metadata": {
        "id": "4oiOpAeBP9FE"
      }
    },
    {
      "cell_type": "code",
      "source": [
        "import numpy as np\n",
        "import seaborn as sns\n",
        "import matplotlib.pyplot as plt\n",
        "from sklearn.model_selection import train_test_split\n",
        "from sklearn.metrics import confusion_matrix, classification_report\n",
        "from keras.models import Sequential\n",
        "from keras.layers import Conv2D, MaxPooling2D, Flatten, Dense\n",
        "from keras.datasets import fashion_mnist"
      ],
      "metadata": {
        "id": "EwDjvM84KYNx"
      },
      "execution_count": 1,
      "outputs": []
    },
    {
      "cell_type": "markdown",
      "source": [
        "### **Loading Dataset**"
      ],
      "metadata": {
        "id": "GvxV_QEJQ0I-"
      }
    },
    {
      "cell_type": "code",
      "source": [
        "(X_train, y_train), (X_test, y_test) =  fashion_mnist.load_data()"
      ],
      "metadata": {
        "id": "ATIn2OCcQ4ZU",
        "colab": {
          "base_uri": "https://localhost:8080/"
        },
        "outputId": "c6edb19e-3016-4c24-b246-31854d4ddf85"
      },
      "execution_count": 2,
      "outputs": [
        {
          "output_type": "stream",
          "name": "stdout",
          "text": [
            "Downloading data from https://storage.googleapis.com/tensorflow/tf-keras-datasets/train-labels-idx1-ubyte.gz\n",
            "29515/29515 [==============================] - 0s 0us/step\n",
            "Downloading data from https://storage.googleapis.com/tensorflow/tf-keras-datasets/train-images-idx3-ubyte.gz\n",
            "26421880/26421880 [==============================] - 3s 0us/step\n",
            "Downloading data from https://storage.googleapis.com/tensorflow/tf-keras-datasets/t10k-labels-idx1-ubyte.gz\n",
            "5148/5148 [==============================] - 0s 0us/step\n",
            "Downloading data from https://storage.googleapis.com/tensorflow/tf-keras-datasets/t10k-images-idx3-ubyte.gz\n",
            "4422102/4422102 [==============================] - 0s 0us/step\n"
          ]
        }
      ]
    },
    {
      "cell_type": "markdown",
      "source": [
        "### **Checking the shape of the data**"
      ],
      "metadata": {
        "id": "xy5dnl_nXARA"
      }
    },
    {
      "cell_type": "code",
      "source": [
        "X_train.shape, y_train.shape"
      ],
      "metadata": {
        "colab": {
          "base_uri": "https://localhost:8080/"
        },
        "id": "xHJbToXCRSdt",
        "outputId": "bd9bc5bb-c976-49d5-bdd3-fbb9b732e061"
      },
      "execution_count": 3,
      "outputs": [
        {
          "output_type": "execute_result",
          "data": {
            "text/plain": [
              "((60000, 28, 28), (60000,))"
            ]
          },
          "metadata": {},
          "execution_count": 3
        }
      ]
    },
    {
      "cell_type": "code",
      "source": [
        "X_test.shape, y_test.shape"
      ],
      "metadata": {
        "colab": {
          "base_uri": "https://localhost:8080/"
        },
        "id": "qJNgD1NERtf3",
        "outputId": "b510ab6e-4b34-4ad6-8cc4-36794696db22"
      },
      "execution_count": 4,
      "outputs": [
        {
          "output_type": "execute_result",
          "data": {
            "text/plain": [
              "((10000, 28, 28), (10000,))"
            ]
          },
          "metadata": {},
          "execution_count": 4
        }
      ]
    },
    {
      "cell_type": "markdown",
      "source": [
        "### **Changing the dimentions of data**"
      ],
      "metadata": {
        "id": "XBLdZMcSXSjy"
      }
    },
    {
      "cell_type": "code",
      "source": [
        "X_train = np.expand_dims(X_train, -1)\n",
        "X_test = np.expand_dims(X_test, -1)"
      ],
      "metadata": {
        "id": "nd0bR76MU1QX"
      },
      "execution_count": 5,
      "outputs": []
    },
    {
      "cell_type": "code",
      "source": [
        "X_train.shape, X_test.shape"
      ],
      "metadata": {
        "colab": {
          "base_uri": "https://localhost:8080/"
        },
        "id": "w29O5D4JWWgT",
        "outputId": "6837f212-e0f9-436e-c7c8-067b5d9f3250"
      },
      "execution_count": 6,
      "outputs": [
        {
          "output_type": "execute_result",
          "data": {
            "text/plain": [
              "((60000, 28, 28, 1), (10000, 28, 28, 1))"
            ]
          },
          "metadata": {},
          "execution_count": 6
        }
      ]
    },
    {
      "cell_type": "markdown",
      "source": [
        "### **Feature scaling**"
      ],
      "metadata": {
        "id": "X9Raytwvau8R"
      }
    },
    {
      "cell_type": "code",
      "source": [
        "X_train = X_train/255\n",
        "X_test = X_test/255"
      ],
      "metadata": {
        "id": "3G35TkQXYiBG"
      },
      "execution_count": 7,
      "outputs": []
    },
    {
      "cell_type": "markdown",
      "source": [
        "### **Splitting the dataset**"
      ],
      "metadata": {
        "id": "oFwqjjJacv7u"
      }
    },
    {
      "cell_type": "code",
      "source": [
        "X_train, X_val, y_train, y_val = train_test_split(X_train, y_train, test_size = 0.2, random_state = 20)"
      ],
      "metadata": {
        "id": "CLk_L7W_csRE"
      },
      "execution_count": 8,
      "outputs": []
    },
    {
      "cell_type": "code",
      "source": [
        "X_train.shape, y_train.shape"
      ],
      "metadata": {
        "colab": {
          "base_uri": "https://localhost:8080/"
        },
        "id": "-7zzVCV9ytke",
        "outputId": "c7ca1163-8aa4-470d-df0a-ba1987a370c7"
      },
      "execution_count": 9,
      "outputs": [
        {
          "output_type": "execute_result",
          "data": {
            "text/plain": [
              "((48000, 28, 28, 1), (48000,))"
            ]
          },
          "metadata": {},
          "execution_count": 9
        }
      ]
    },
    {
      "cell_type": "code",
      "source": [
        "X_val.shape, y_val.shape"
      ],
      "metadata": {
        "colab": {
          "base_uri": "https://localhost:8080/"
        },
        "id": "f1apPMzIzGaT",
        "outputId": "20bdac08-3f4e-4e8e-e2c0-27aaa092e650"
      },
      "execution_count": 10,
      "outputs": [
        {
          "output_type": "execute_result",
          "data": {
            "text/plain": [
              "((12000, 28, 28, 1), (12000,))"
            ]
          },
          "metadata": {},
          "execution_count": 10
        }
      ]
    },
    {
      "cell_type": "markdown",
      "source": [
        "### **Building a CNN**"
      ],
      "metadata": {
        "id": "Pg9s10pGewZk"
      }
    },
    {
      "cell_type": "code",
      "source": [
        "model = Sequential([\n",
        "                    # 1st convo layer\n",
        "                    Conv2D(filters = 32, kernel_size = (3,3), activation = 'relu', input_shape = [28, 28, 1]),\n",
        "                    MaxPooling2D(pool_size = (2,2)),\n",
        "                    \n",
        "                    # 2nd convo layer\n",
        "                    Conv2D(filters = 16, kernel_size = (3,3), activation = 'relu'),\n",
        "                    MaxPooling2D(pool_size = (2,2)),\n",
        "\n",
        "                    # fattening\n",
        "                    Flatten(),\n",
        "\n",
        "                    # fully-connected layers\n",
        "                    Dense(units = 128, activation='relu'),  # input\n",
        "                    Dense(units = 48, activation='relu'),  # hidden-1\n",
        "                    Dense(units = 24, activation='relu'),  # hidden-2\n",
        "                    Dense(units = 10, activation='softmax')  # output\n",
        "])"
      ],
      "metadata": {
        "id": "CkHl8wt8eOGq"
      },
      "execution_count": 11,
      "outputs": []
    },
    {
      "cell_type": "code",
      "source": [
        "model.summary()"
      ],
      "metadata": {
        "colab": {
          "base_uri": "https://localhost:8080/"
        },
        "id": "wP5cSwqZmbZ2",
        "outputId": "7eff31c6-1ac2-4461-b3d6-be956a2c75b4"
      },
      "execution_count": 12,
      "outputs": [
        {
          "output_type": "stream",
          "name": "stdout",
          "text": [
            "Model: \"sequential\"\n",
            "_________________________________________________________________\n",
            " Layer (type)                Output Shape              Param #   \n",
            "=================================================================\n",
            " conv2d (Conv2D)             (None, 26, 26, 32)        320       \n",
            "                                                                 \n",
            " max_pooling2d (MaxPooling2D  (None, 13, 13, 32)       0         \n",
            " )                                                               \n",
            "                                                                 \n",
            " conv2d_1 (Conv2D)           (None, 11, 11, 16)        4624      \n",
            "                                                                 \n",
            " max_pooling2d_1 (MaxPooling  (None, 5, 5, 16)         0         \n",
            " 2D)                                                             \n",
            "                                                                 \n",
            " flatten (Flatten)           (None, 400)               0         \n",
            "                                                                 \n",
            " dense (Dense)               (None, 128)               51328     \n",
            "                                                                 \n",
            " dense_1 (Dense)             (None, 48)                6192      \n",
            "                                                                 \n",
            " dense_2 (Dense)             (None, 24)                1176      \n",
            "                                                                 \n",
            " dense_3 (Dense)             (None, 10)                250       \n",
            "                                                                 \n",
            "=================================================================\n",
            "Total params: 63,890\n",
            "Trainable params: 63,890\n",
            "Non-trainable params: 0\n",
            "_________________________________________________________________\n"
          ]
        }
      ]
    },
    {
      "cell_type": "code",
      "source": [
        "model.compile(optimizer='adam', loss = 'sparse_categorical_crossentropy', metrics = ['accuracy'])"
      ],
      "metadata": {
        "id": "QNr6l_UvmesU"
      },
      "execution_count": 13,
      "outputs": []
    },
    {
      "cell_type": "code",
      "source": [
        "model.fit(X_train, y_train, validation_data = (X_val, y_val), epochs = 10, batch_size = 512, verbose=1)"
      ],
      "metadata": {
        "colab": {
          "base_uri": "https://localhost:8080/"
        },
        "id": "Q8W1KqrbrBsL",
        "outputId": "11a12b0a-0750-4817-ade9-df8fa8330a98"
      },
      "execution_count": 14,
      "outputs": [
        {
          "output_type": "stream",
          "name": "stdout",
          "text": [
            "Epoch 1/10\n",
            "94/94 [==============================] - 19s 15ms/step - loss: 1.1414 - accuracy: 0.5861 - val_loss: 0.6687 - val_accuracy: 0.7468\n",
            "Epoch 2/10\n",
            "94/94 [==============================] - 1s 9ms/step - loss: 0.5963 - accuracy: 0.7734 - val_loss: 0.5369 - val_accuracy: 0.7903\n",
            "Epoch 3/10\n",
            "94/94 [==============================] - 1s 9ms/step - loss: 0.5081 - accuracy: 0.8091 - val_loss: 0.4786 - val_accuracy: 0.8206\n",
            "Epoch 4/10\n",
            "94/94 [==============================] - 1s 9ms/step - loss: 0.4507 - accuracy: 0.8357 - val_loss: 0.4595 - val_accuracy: 0.8291\n",
            "Epoch 5/10\n",
            "94/94 [==============================] - 1s 9ms/step - loss: 0.4202 - accuracy: 0.8490 - val_loss: 0.4228 - val_accuracy: 0.8440\n",
            "Epoch 6/10\n",
            "94/94 [==============================] - 1s 9ms/step - loss: 0.3893 - accuracy: 0.8611 - val_loss: 0.3903 - val_accuracy: 0.8581\n",
            "Epoch 7/10\n",
            "94/94 [==============================] - 1s 9ms/step - loss: 0.3750 - accuracy: 0.8663 - val_loss: 0.3691 - val_accuracy: 0.8662\n",
            "Epoch 8/10\n",
            "94/94 [==============================] - 1s 9ms/step - loss: 0.3615 - accuracy: 0.8709 - val_loss: 0.3628 - val_accuracy: 0.8678\n",
            "Epoch 9/10\n",
            "94/94 [==============================] - 1s 8ms/step - loss: 0.3460 - accuracy: 0.8758 - val_loss: 0.3567 - val_accuracy: 0.8718\n",
            "Epoch 10/10\n",
            "94/94 [==============================] - 1s 9ms/step - loss: 0.3331 - accuracy: 0.8795 - val_loss: 0.3551 - val_accuracy: 0.8742\n"
          ]
        },
        {
          "output_type": "execute_result",
          "data": {
            "text/plain": [
              "<keras.callbacks.History at 0x7f08f4563d90>"
            ]
          },
          "metadata": {},
          "execution_count": 14
        }
      ]
    },
    {
      "cell_type": "markdown",
      "source": [
        "### **Testing the model**"
      ],
      "metadata": {
        "id": "9XPzLmWR98g6"
      }
    },
    {
      "cell_type": "code",
      "source": [
        "predicted = np.argmax(model.predict(np.expand_dims(a = X_test[0], axis = 0)).round(2))\n",
        "actual = y_test[0]\n",
        "\n",
        "print('Predicted: ', predicted)\n",
        "print('Actual: ', actual)"
      ],
      "metadata": {
        "colab": {
          "base_uri": "https://localhost:8080/"
        },
        "id": "q3WEs58t9Imw",
        "outputId": "878d2e3f-ee1c-4596-bdeb-58276f155ed8"
      },
      "execution_count": 15,
      "outputs": [
        {
          "output_type": "stream",
          "name": "stdout",
          "text": [
            "1/1 [==============================] - 0s 164ms/step\n",
            "Predicted:  9\n",
            "Actual:  9\n"
          ]
        }
      ]
    },
    {
      "cell_type": "markdown",
      "source": [
        "### **Evaluating the model**"
      ],
      "metadata": {
        "id": "7Zo-I7of8Ly_"
      }
    },
    {
      "cell_type": "code",
      "source": [
        "model.evaluate(X_test, y_test)"
      ],
      "metadata": {
        "colab": {
          "base_uri": "https://localhost:8080/"
        },
        "id": "Glrb-QFBsnqr",
        "outputId": "baa042d5-e553-41b1-826a-e07008995ddf"
      },
      "execution_count": 16,
      "outputs": [
        {
          "output_type": "stream",
          "name": "stdout",
          "text": [
            "313/313 [==============================] - 1s 3ms/step - loss: 0.3684 - accuracy: 0.8691\n"
          ]
        },
        {
          "output_type": "execute_result",
          "data": {
            "text/plain": [
              "[0.36841416358947754, 0.8690999746322632]"
            ]
          },
          "metadata": {},
          "execution_count": 16
        }
      ]
    },
    {
      "cell_type": "code",
      "source": [
        "# confusion matrix\n",
        "\n",
        "class_labels = ['0: T-shirt/Top', '1: Trouser', '2: Pullover', '3: Dress', '4: Coat', \n",
        "                '5: Sandal', '6: Shirt', '7: Sneaker', '8: Bag', '9: Ankle Boot']\n",
        "\n",
        "y_pred = model.predict(X_test).round(2)\n",
        "y_pred_labels = [np.argmax(label) for label in y_pred]\n",
        "\n",
        "cm = confusion_matrix(y_test, y_pred_labels)\n",
        "\n",
        "plt.figure(figsize=(10,8))\n",
        "sns.heatmap(cm, annot = True, fmt='d', square = True, linewidth=1, cmap='viridis', xticklabels = class_labels, yticklabels= class_labels);"
      ],
      "metadata": {
        "colab": {
          "base_uri": "https://localhost:8080/",
          "height": 556
        },
        "id": "k3ZYj5646nV8",
        "outputId": "1e4c1e9d-d0ba-4823-f44e-4248d8b6506b"
      },
      "execution_count": 17,
      "outputs": [
        {
          "output_type": "stream",
          "name": "stdout",
          "text": [
            "313/313 [==============================] - 1s 2ms/step\n"
          ]
        },
        {
          "output_type": "display_data",
          "data": {
            "text/plain": [
              "<Figure size 720x576 with 2 Axes>"
            ],
            "image/png": "[encoded data removed]"
          },
          "metadata": {
            "needs_background": "light"
          }
        }
      ]
    },
    {
      "cell_type": "code",
      "source": [
        "# classification report\n",
        "class_report = classification_report(y_test, y_pred_labels, target_names = class_labels)\n",
        "print(class_report) "
      ],
      "metadata": {
        "colab": {
          "base_uri": "https://localhost:8080/"
        },
        "id": "aaGwLFo1C5IT",
        "outputId": "ce9ec513-21e8-44d7-88a2-1c15705fe780"
      },
      "execution_count": 18,
      "outputs": [
        {
          "output_type": "stream",
          "name": "stdout",
          "text": [
            "                precision    recall  f1-score   support\n",
            "\n",
            "0: T-shirt/Top       0.78      0.88      0.83      1000\n",
            "    1: Trouser       0.98      0.97      0.97      1000\n",
            "   2: Pullover       0.87      0.71      0.78      1000\n",
            "      3: Dress       0.92      0.83      0.87      1000\n",
            "       4: Coat       0.73      0.86      0.79      1000\n",
            "     5: Sandal       0.96      0.97      0.97      1000\n",
            "      6: Shirt       0.64      0.61      0.63      1000\n",
            "    7: Sneaker       0.92      0.95      0.94      1000\n",
            "        8: Bag       0.96      0.96      0.96      1000\n",
            " 9: Ankle Boot       0.97      0.93      0.95      1000\n",
            "\n",
            "      accuracy                           0.87     10000\n",
            "     macro avg       0.87      0.87      0.87     10000\n",
            "  weighted avg       0.87      0.87      0.87     10000\n",
            "\n"
          ]
        }
      ]
    },
    {
      "cell_type": "code",
      "source": [
        "model.save('CNN_fashion_mnist.h5')"
      ],
      "metadata": {
        "id": "Mbm_ArVjGfvo"
      },
      "execution_count": 19,
      "outputs": []
    },
    {
      "cell_type": "code",
      "source": [
        "from keras.models import load_model\n",
        "data = load_model('CNN_fashion_mnist.h5')\n",
        "np.argmax(data.predict(np.expand_dims(a = X_test[0], axis = 0).round(2)))"
      ],
      "metadata": {
        "colab": {
          "base_uri": "https://localhost:8080/"
        },
        "id": "EqtigX7qTROa",
        "outputId": "23276cdd-f171-4d32-ee89-66dc207ece5f"
      },
      "execution_count": 20,
      "outputs": [
        {
          "output_type": "stream",
          "name": "stdout",
          "text": [
            "1/1 [==============================] - 0s 89ms/step\n"
          ]
        },
        {
          "output_type": "execute_result",
          "data": {
            "text/plain": [
              "9"
            ]
          },
          "metadata": {},
          "execution_count": 20
        }
      ]
    },
    {
      "cell_type": "code",
      "source": [
        "y_test[0]"
      ],
      "metadata": {
        "colab": {
          "base_uri": "https://localhost:8080/"
        },
        "id": "oUawp4_laIbr",
        "outputId": "ca527785-6f82-4f2f-e900-2d29e1d2e636"
      },
      "execution_count": 21,
      "outputs": [
        {
          "output_type": "execute_result",
          "data": {
            "text/plain": [
              "9"
            ]
          },
          "metadata": {},
          "execution_count": 21
        }
      ]
    }
  ]
}