{
  "nbformat": 4,
  "nbformat_minor": 0,
  "metadata": {
    "colab": {
      "provenance": []
    },
    "kernelspec": {
      "name": "python3",
      "display_name": "Python 3"
    },
    "language_info": {
      "name": "python"
    },
    "accelerator": "GPU",
    "gpuClass": "standard"
  },
  "cells": [
    {
      "cell_type": "code",
      "execution_count": 1,
      "metadata": {
        "colab": {
          "base_uri": "https://localhost:8080/"
        },
        "id": "W_4SoVJglfxi",
        "outputId": "d44b51f1-2690-4dd6-d679-80b157dd3384"
      },
      "outputs": [
        {
          "output_type": "stream",
          "name": "stdout",
          "text": [
            "\u001b[2K     \u001b[90m━━━━━━━━━━━━━━━━━━━━━━━━━━━━━━━━━━━━━━━\u001b[0m \u001b[32m167.3/167.3 KB\u001b[0m \u001b[31m6.0 MB/s\u001b[0m eta \u001b[36m0:00:00\u001b[0m\n",
            "\u001b[2K     \u001b[90m━━━━━━━━━━━━━━━━━━━━━━━━━━━━━━━━━━━━━━━━\u001b[0m \u001b[32m1.6/1.6 MB\u001b[0m \u001b[31m76.8 MB/s\u001b[0m eta \u001b[36m0:00:00\u001b[0m\n",
            "\u001b[?25h"
          ]
        }
      ],
      "source": [
        "# installing keras tuner\n",
        "!pip install -q keras-tuner"
      ]
    },
    {
      "cell_type": "code",
      "source": [
        "# imports\n",
        "import pandas as pd\n",
        "import matplotlib.pyplot as plt\n",
        "from sklearn.preprocessing import StandardScaler\n",
        "from sklearn.model_selection import train_test_split\n",
        "from keras import Sequential\n",
        "from keras.layers import Dense, BatchNormalization, Dropout\n",
        "from keras.optimizers import RMSprop, Adam\n",
        "import keras_tuner as kt"
      ],
      "metadata": {
        "id": "V4MECz2Tllrc"
      },
      "execution_count": 2,
      "outputs": []
    },
    {
      "cell_type": "code",
      "source": [
        "# loading the dataset\n",
        "df = pd.read_csv('/content/diabetes_dataset.csv')\n",
        "df.head()"
      ],
      "metadata": {
        "colab": {
          "base_uri": "https://localhost:8080/",
          "height": 206
        },
        "id": "L3EbPJiAmem9",
        "outputId": "3a8a6346-ad5d-46b4-edcd-93d398144a4c"
      },
      "execution_count": 3,
      "outputs": [
        {
          "output_type": "execute_result",
          "data": {
            "text/plain": [
              "   Pregnancies  Glucose  Insulin   BMI  DiabetesPedigreeFunction  Age  Outcome\n",
              "0            6      148        0  33.6                     0.627   50        1\n",
              "1            1       85        0  26.6                     0.351   31        0\n",
              "2            8      183        0  23.3                     0.672   32        1\n",
              "3            1       89       94  28.1                     0.167   21        0\n",
              "4            0      137      168  43.1                     2.288   33        1"
            ],
            "text/html": [
              "\n",
              "  <div id=\"df-44d78431-2c56-41a0-9204-961ce850bc21\">\n",
              "    <div class=\"colab-df-container\">\n",
              "      <div>\n",
              "<style scoped>\n",
              "    .dataframe tbody tr th:only-of-type {\n",
              "        vertical-align: middle;\n",
              "    }\n",
              "\n",
              "    .dataframe tbody tr th {\n",
              "        vertical-align: top;\n",
              "    }\n",
              "\n",
              "    .dataframe thead th {\n",
              "        text-align: right;\n",
              "    }\n",
              "</style>\n",
              "<table border=\"1\" class=\"dataframe\">\n",
              "  <thead>\n",
              "    <tr style=\"text-align: right;\">\n",
              "      <th></th>\n",
              "      <th>Pregnancies</th>\n",
              "      <th>Glucose</th>\n",
              "      <th>Insulin</th>\n",
              "      <th>BMI</th>\n",
              "      <th>DiabetesPedigreeFunction</th>\n",
              "      <th>Age</th>\n",
              "      <th>Outcome</th>\n",
              "    </tr>\n",
              "  </thead>\n",
              "  <tbody>\n",
              "    <tr>\n",
              "      <th>0</th>\n",
              "      <td>6</td>\n",
              "      <td>148</td>\n",
              "      <td>0</td>\n",
              "      <td>33.6</td>\n",
              "      <td>0.627</td>\n",
              "      <td>50</td>\n",
              "      <td>1</td>\n",
              "    </tr>\n",
              "    <tr>\n",
              "      <th>1</th>\n",
              "      <td>1</td>\n",
              "      <td>85</td>\n",
              "      <td>0</td>\n",
              "      <td>26.6</td>\n",
              "      <td>0.351</td>\n",
              "      <td>31</td>\n",
              "      <td>0</td>\n",
              "    </tr>\n",
              "    <tr>\n",
              "      <th>2</th>\n",
              "      <td>8</td>\n",
              "      <td>183</td>\n",
              "      <td>0</td>\n",
              "      <td>23.3</td>\n",
              "      <td>0.672</td>\n",
              "      <td>32</td>\n",
              "      <td>1</td>\n",
              "    </tr>\n",
              "    <tr>\n",
              "      <th>3</th>\n",
              "      <td>1</td>\n",
              "      <td>89</td>\n",
              "      <td>94</td>\n",
              "      <td>28.1</td>\n",
              "      <td>0.167</td>\n",
              "      <td>21</td>\n",
              "      <td>0</td>\n",
              "    </tr>\n",
              "    <tr>\n",
              "      <th>4</th>\n",
              "      <td>0</td>\n",
              "      <td>137</td>\n",
              "      <td>168</td>\n",
              "      <td>43.1</td>\n",
              "      <td>2.288</td>\n",
              "      <td>33</td>\n",
              "      <td>1</td>\n",
              "    </tr>\n",
              "  </tbody>\n",
              "</table>\n",
              "</div>\n",
              "      <button class=\"colab-df-convert\" onclick=\"convertToInteractive('df-44d78431-2c56-41a0-9204-961ce850bc21')\"\n",
              "              title=\"Convert this dataframe to an interactive table.\"\n",
              "              style=\"display:none;\">\n",
              "        \n",
              "  <svg xmlns=\"http://www.w3.org/2000/svg\" height=\"24px\"viewBox=\"0 0 24 24\"\n",
              "       width=\"24px\">\n",
              "    <path d=\"M0 0h24v24H0V0z\" fill=\"none\"/>\n",
              "    <path d=\"M18.56 5.44l.94 2.06.94-2.06 2.06-.94-2.06-.94-.94-2.06-.94 2.06-2.06.94zm-11 1L8.5 8.5l.94-2.06 2.06-.94-2.06-.94L8.5 2.5l-.94 2.06-2.06.94zm10 10l.94 2.06.94-2.06 2.06-.94-2.06-.94-.94-2.06-.94 2.06-2.06.94z\"/><path d=\"M17.41 7.96l-1.37-1.37c-.4-.4-.92-.59-1.43-.59-.52 0-1.04.2-1.43.59L10.3 9.45l-7.72 7.72c-.78.78-.78 2.05 0 2.83L4 21.41c.39.39.9.59 1.41.59.51 0 1.02-.2 1.41-.59l7.78-7.78 2.81-2.81c.8-.78.8-2.07 0-2.86zM5.41 20L4 18.59l7.72-7.72 1.47 1.35L5.41 20z\"/>\n",
              "  </svg>\n",
              "      </button>\n",
              "      \n",
              "  <style>\n",
              "    .colab-df-container {\n",
              "      display:flex;\n",
              "      flex-wrap:wrap;\n",
              "      gap: 12px;\n",
              "    }\n",
              "\n",
              "    .colab-df-convert {\n",
              "      background-color: #E8F0FE;\n",
              "      border: none;\n",
              "      border-radius: 50%;\n",
              "      cursor: pointer;\n",
              "      display: none;\n",
              "      fill: #1967D2;\n",
              "      height: 32px;\n",
              "      padding: 0 0 0 0;\n",
              "      width: 32px;\n",
              "    }\n",
              "\n",
              "    .colab-df-convert:hover {\n",
              "      background-color: #E2EBFA;\n",
              "      box-shadow: 0px 1px 2px rgba(60, 64, 67, 0.3), 0px 1px 3px 1px rgba(60, 64, 67, 0.15);\n",
              "      fill: #174EA6;\n",
              "    }\n",
              "\n",
              "    [theme=dark] .colab-df-convert {\n",
              "      background-color: #3B4455;\n",
              "      fill: #D2E3FC;\n",
              "    }\n",
              "\n",
              "    [theme=dark] .colab-df-convert:hover {\n",
              "      background-color: #434B5C;\n",
              "      box-shadow: 0px 1px 3px 1px rgba(0, 0, 0, 0.15);\n",
              "      filter: drop-shadow(0px 1px 2px rgba(0, 0, 0, 0.3));\n",
              "      fill: #FFFFFF;\n",
              "    }\n",
              "  </style>\n",
              "\n",
              "      <script>\n",
              "        const buttonEl =\n",
              "          document.querySelector('#df-44d78431-2c56-41a0-9204-961ce850bc21 button.colab-df-convert');\n",
              "        buttonEl.style.display =\n",
              "          google.colab.kernel.accessAllowed ? 'block' : 'none';\n",
              "\n",
              "        async function convertToInteractive(key) {\n",
              "          const element = document.querySelector('#df-44d78431-2c56-41a0-9204-961ce850bc21');\n",
              "          const dataTable =\n",
              "            await google.colab.kernel.invokeFunction('convertToInteractive',\n",
              "                                                     [key], {});\n",
              "          if (!dataTable) return;\n",
              "\n",
              "          const docLinkHtml = 'Like what you see? Visit the ' +\n",
              "            '<a target=\"_blank\" href=https://colab.research.google.com/notebooks/data_table.ipynb>data table notebook</a>'\n",
              "            + ' to learn more about interactive tables.';\n",
              "          element.innerHTML = '';\n",
              "          dataTable['output_type'] = 'display_data';\n",
              "          await google.colab.output.renderOutput(dataTable, element);\n",
              "          const docLink = document.createElement('div');\n",
              "          docLink.innerHTML = docLinkHtml;\n",
              "          element.appendChild(docLink);\n",
              "        }\n",
              "      </script>\n",
              "    </div>\n",
              "  </div>\n",
              "  "
            ]
          },
          "metadata": {},
          "execution_count": 3
        }
      ]
    },
    {
      "cell_type": "code",
      "source": [
        "# getting the info of data\n",
        "df.info()"
      ],
      "metadata": {
        "colab": {
          "base_uri": "https://localhost:8080/"
        },
        "id": "4sL9rZhAmfd8",
        "outputId": "0f166bc1-08da-4786-b5d6-3d4e99dd40db"
      },
      "execution_count": 4,
      "outputs": [
        {
          "output_type": "stream",
          "name": "stdout",
          "text": [
            "<class 'pandas.core.frame.DataFrame'>\n",
            "RangeIndex: 768 entries, 0 to 767\n",
            "Data columns (total 7 columns):\n",
            " #   Column                    Non-Null Count  Dtype  \n",
            "---  ------                    --------------  -----  \n",
            " 0   Pregnancies               768 non-null    int64  \n",
            " 1   Glucose                   768 non-null    int64  \n",
            " 2   Insulin                   768 non-null    int64  \n",
            " 3   BMI                       768 non-null    float64\n",
            " 4   DiabetesPedigreeFunction  768 non-null    float64\n",
            " 5   Age                       768 non-null    int64  \n",
            " 6   Outcome                   768 non-null    int64  \n",
            "dtypes: float64(2), int64(5)\n",
            "memory usage: 42.1 KB\n"
          ]
        }
      ]
    },
    {
      "cell_type": "code",
      "source": [
        "# getting the value count of target; 0 = No, 1 = yes\n",
        "df['Outcome'].value_counts().plot.barh(color='crimson');"
      ],
      "metadata": {
        "colab": {
          "base_uri": "https://localhost:8080/",
          "height": 265
        },
        "id": "jtvMeDe0mjCm",
        "outputId": "86709871-0ea4-4fc2-f543-e009c1da2b07"
      },
      "execution_count": 5,
      "outputs": [
        {
          "output_type": "display_data",
          "data": {
            "text/plain": [
              "<Figure size 432x288 with 1 Axes>"
            ],
            "image/png": "[encoded data removed]"
          },
          "metadata": {
            "needs_background": "light"
          }
        }
      ]
    },
    {
      "cell_type": "code",
      "source": [
        "# creating X & y\n",
        "X = df.drop(['Outcome'], axis=1)\n",
        "y = df['Outcome']"
      ],
      "metadata": {
        "id": "ddLztv7Kmmb9"
      },
      "execution_count": 6,
      "outputs": []
    },
    {
      "cell_type": "code",
      "source": [
        "# scaling the X\n",
        "scaler = StandardScaler()\n",
        "X = scaler.fit_transform(X)"
      ],
      "metadata": {
        "id": "WFzJw9lomqCx"
      },
      "execution_count": 7,
      "outputs": []
    },
    {
      "cell_type": "code",
      "source": [
        "# splitting the data into training & testing sets\n",
        "X_train, X_test, y_train, y_test = train_test_split(X, y, test_size=.25, shuffle=True, random_state=42)"
      ],
      "metadata": {
        "id": "qw34YjDhmssX"
      },
      "execution_count": 8,
      "outputs": []
    },
    {
      "cell_type": "code",
      "source": [
        "# defining the search space for hyperparameters\n",
        "\n",
        "def model_builder(hp):\n",
        "\n",
        "  model = Sequential()\n",
        "  \n",
        "  counter = 0\n",
        "\n",
        "  for i in range(hp.Int(name='layers', min_value=2, max_value=6)):\n",
        "\n",
        "    # input layer\n",
        "    if counter == 0:\n",
        "      model.add(Dense(\n",
        "          units=hp.Int('units' + str(i),  min_value=6, max_value=72, step=6), \n",
        "          activation=hp.Choice('activation' + str(i), values=['relu', 'tanh']),input_dim=6))\n",
        "      model.add(BatchNormalization())\n",
        "      model.add(Dropout(hp.Float('drop_rate' + str(i), min_value=0.1, max_value=0.9, step=0.1)))\n",
        "    \n",
        "    # hidden layers\n",
        "    else:\n",
        "      model.add(Dense(\n",
        "          units=hp.Int('units' + str(i),  min_value=6, max_value=72, step=6), \n",
        "          activation=hp.Choice('activation' + str(i), values=['relu', 'tanh'])))\n",
        "      model.add(BatchNormalization())\n",
        "      model.add(Dropout(hp.Float('drop_rate' + str(i), min_value=0.1, max_value=0.9, step=0.1)))\n",
        "    \n",
        "    counter += 1\n",
        "\n",
        "  # output layer\n",
        "  model.add(Dense(1, activation='sigmoid'))\n",
        "\n",
        "  # compilation  \n",
        "  model.compile(optimizer=hp.Choice('optimizer' + str(i), values=['adam', 'rmsprop']), \n",
        "                loss='binary_crossentropy', metrics=['accuracy'])\n",
        "  \n",
        "  # returning the model\n",
        "  return model"
      ],
      "metadata": {
        "id": "qGcQVE9dmvp8"
      },
      "execution_count": 9,
      "outputs": []
    },
    {
      "cell_type": "code",
      "source": [
        "# creating a tuner object\n",
        "tuner = kt.RandomSearch(hypermodel=model_builder, objective='val_accuracy', \n",
        "                      max_trials=10, directory='mydir', project_name='diabetes', seed=420)"
      ],
      "metadata": {
        "id": "gElIJwPSpjOY"
      },
      "execution_count": 10,
      "outputs": []
    },
    {
      "cell_type": "code",
      "source": [
        "# getting the hps summary\n",
        "tuner.search_space_summary()"
      ],
      "metadata": {
        "colab": {
          "base_uri": "https://localhost:8080/"
        },
        "id": "yjiIbL8Tq0lO",
        "outputId": "d7995725-2d43-4227-f58b-9577f9785aad"
      },
      "execution_count": 11,
      "outputs": [
        {
          "output_type": "stream",
          "name": "stdout",
          "text": [
            "Search space summary\n",
            "Default search space size: 8\n",
            "layers (Int)\n",
            "{'default': None, 'conditions': [], 'min_value': 2, 'max_value': 6, 'step': 1, 'sampling': 'linear'}\n",
            "units0 (Int)\n",
            "{'default': None, 'conditions': [], 'min_value': 6, 'max_value': 72, 'step': 6, 'sampling': 'linear'}\n",
            "activation0 (Choice)\n",
            "{'default': 'relu', 'conditions': [], 'values': ['relu', 'tanh'], 'ordered': False}\n",
            "drop_rate0 (Float)\n",
            "{'default': 0.1, 'conditions': [], 'min_value': 0.1, 'max_value': 0.9, 'step': 0.1, 'sampling': 'linear'}\n",
            "units1 (Int)\n",
            "{'default': None, 'conditions': [], 'min_value': 6, 'max_value': 72, 'step': 6, 'sampling': 'linear'}\n",
            "activation1 (Choice)\n",
            "{'default': 'relu', 'conditions': [], 'values': ['relu', 'tanh'], 'ordered': False}\n",
            "drop_rate1 (Float)\n",
            "{'default': 0.1, 'conditions': [], 'min_value': 0.1, 'max_value': 0.9, 'step': 0.1, 'sampling': 'linear'}\n",
            "optimizer1 (Choice)\n",
            "{'default': 'adam', 'conditions': [], 'values': ['adam', 'rmsprop'], 'ordered': False}\n"
          ]
        }
      ]
    },
    {
      "cell_type": "code",
      "source": [
        "# searching for the best hyperparameters\n",
        "tuner.search(X_train, y_train, validation_data=(X_test, y_test), epochs=20)"
      ],
      "metadata": {
        "colab": {
          "base_uri": "https://localhost:8080/"
        },
        "id": "tjb-M8bY1hUb",
        "outputId": "4a6dd892-ba43-4261-f13d-6bdfabb231df"
      },
      "execution_count": 12,
      "outputs": [
        {
          "output_type": "stream",
          "name": "stdout",
          "text": [
            "Trial 10 Complete [00h 00m 07s]\n",
            "val_accuracy: 0.7604166865348816\n",
            "\n",
            "Best val_accuracy So Far: 0.7916666865348816\n",
            "Total elapsed time: 00h 01m 43s\n"
          ]
        }
      ]
    },
    {
      "cell_type": "code",
      "source": [
        "# checking the results \n",
        "tuner.results_summary(num_trials=1)"
      ],
      "metadata": {
        "colab": {
          "base_uri": "https://localhost:8080/"
        },
        "id": "TOsSG3K61nL1",
        "outputId": "d6b89e07-8e1c-444b-fdab-bc9bde61f9b6"
      },
      "execution_count": 13,
      "outputs": [
        {
          "output_type": "stream",
          "name": "stdout",
          "text": [
            "Results summary\n",
            "Results in mydir/diabetes\n",
            "Showing 1 best trials\n",
            "<keras_tuner.engine.objective.Objective object at 0x7f085f2b4ca0>\n",
            "Trial summary\n",
            "Hyperparameters:\n",
            "layers: 3\n",
            "units0: 54\n",
            "activation0: tanh\n",
            "drop_rate0: 0.2\n",
            "units1: 24\n",
            "activation1: relu\n",
            "drop_rate1: 0.9\n",
            "optimizer1: adam\n",
            "units2: 72\n",
            "activation2: relu\n",
            "drop_rate2: 0.1\n",
            "optimizer2: rmsprop\n",
            "Score: 0.7916666865348816\n"
          ]
        }
      ]
    },
    {
      "cell_type": "code",
      "source": [
        "# fetching the best model\n",
        "model = tuner.get_best_models()[0]"
      ],
      "metadata": {
        "id": "_O8iDDR31u9Y"
      },
      "execution_count": 14,
      "outputs": []
    },
    {
      "cell_type": "code",
      "source": [
        "# getting the model summary\n",
        "model.summary()"
      ],
      "metadata": {
        "colab": {
          "base_uri": "https://localhost:8080/"
        },
        "id": "guIu0VdN1yVK",
        "outputId": "2f112762-57a3-403d-b974-6338ee35f3ae"
      },
      "execution_count": 15,
      "outputs": [
        {
          "output_type": "stream",
          "name": "stdout",
          "text": [
            "Model: \"sequential\"\n",
            "_________________________________________________________________\n",
            " Layer (type)                Output Shape              Param #   \n",
            "=================================================================\n",
            " dense (Dense)               (None, 54)                378       \n",
            "                                                                 \n",
            " batch_normalization (BatchN  (None, 54)               216       \n",
            " ormalization)                                                   \n",
            "                                                                 \n",
            " dropout (Dropout)           (None, 54)                0         \n",
            "                                                                 \n",
            " dense_1 (Dense)             (None, 24)                1320      \n",
            "                                                                 \n",
            " batch_normalization_1 (Batc  (None, 24)               96        \n",
            " hNormalization)                                                 \n",
            "                                                                 \n",
            " dropout_1 (Dropout)         (None, 24)                0         \n",
            "                                                                 \n",
            " dense_2 (Dense)             (None, 72)                1800      \n",
            "                                                                 \n",
            " batch_normalization_2 (Batc  (None, 72)               288       \n",
            " hNormalization)                                                 \n",
            "                                                                 \n",
            " dropout_2 (Dropout)         (None, 72)                0         \n",
            "                                                                 \n",
            " dense_3 (Dense)             (None, 1)                 73        \n",
            "                                                                 \n",
            "=================================================================\n",
            "Total params: 4,171\n",
            "Trainable params: 3,871\n",
            "Non-trainable params: 300\n",
            "_________________________________________________________________\n"
          ]
        }
      ]
    },
    {
      "cell_type": "code",
      "source": [
        "# model training with the best hyperparameters\n",
        "history = model.fit(X_train, y_train, epochs=100, initial_epoch=21, validation_data=(X_test, y_test), verbose=0)"
      ],
      "metadata": {
        "id": "cg4LhGLx14uI"
      },
      "execution_count": 16,
      "outputs": []
    },
    {
      "cell_type": "code",
      "source": [
        "# checking the model performance\n",
        "_, train_accuracy = model.evaluate(X_train, y_train, verbose=0)\n",
        "_, test_accuracy = model.evaluate(X_test, y_test, verbose=0)\n",
        "print('Training: {}, Testing: {}'.format(train_accuracy * 100, test_accuracy * 100))"
      ],
      "metadata": {
        "colab": {
          "base_uri": "https://localhost:8080/"
        },
        "id": "ElVuzKN917ci",
        "outputId": "8948639a-685b-437c-a2b0-65cb795e46a1"
      },
      "execution_count": 17,
      "outputs": [
        {
          "output_type": "stream",
          "name": "stdout",
          "text": [
            "Training: 78.47222089767456, Testing: 75.52083134651184\n"
          ]
        }
      ]
    },
    {
      "cell_type": "code",
      "source": [
        "# plotting the accuracy\n",
        "plt.plot(history.history['accuracy'], label='Training')\n",
        "plt.plot(history.history['val_accuracy'], label='Testing')\n",
        "plt.legend();"
      ],
      "metadata": {
        "colab": {
          "base_uri": "https://localhost:8080/",
          "height": 265
        },
        "id": "gx6dxbiF1-xv",
        "outputId": "7b1a20b9-2d78-4057-9a54-3a83daa25f27"
      },
      "execution_count": 18,
      "outputs": [
        {
          "output_type": "display_data",
          "data": {
            "text/plain": [
              "<Figure size 432x288 with 1 Axes>"
            ],
            "image/png": "[encoded data removed]"
          },
          "metadata": {
            "needs_background": "light"
          }
        }
      ]
    }
  ]
}