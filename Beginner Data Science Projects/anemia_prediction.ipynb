{
  "cells": [
    {
      "cell_type": "code",
      "execution_count": 1,
      "id": "8f976141",
      "metadata": {
        "_cell_guid": "b1076dfc-b9ad-4769-8c92-a6c4dae69d19",
        "_uuid": "8f2839f25d086af736a60e9eeb907d3b93b6e0e5",
        "execution": {
          "iopub.execute_input": "2022-09-19T09:06:13.099865Z",
          "iopub.status.busy": "2022-09-19T09:06:13.098730Z",
          "iopub.status.idle": "2022-09-19T09:06:14.557881Z",
          "shell.execute_reply": "2022-09-19T09:06:14.556569Z"
        },
        "papermill": {
          "duration": 1.471144,
          "end_time": "2022-09-19T09:06:14.560671",
          "exception": false,
          "start_time": "2022-09-19T09:06:13.089527",
          "status": "completed"
        },
        "tags": [],
        "id": "8f976141"
      },
      "outputs": [],
      "source": [
        "# imports\n",
        "import pandas as pd\n",
        "import matplotlib.pyplot as plt\n",
        "import seaborn as sns\n",
        "from sklearn.model_selection import train_test_split\n",
        "from sklearn.tree import DecisionTreeClassifier\n",
        "from sklearn.metrics import accuracy_score, confusion_matrix, classification_report"
      ]
    },
    {
      "cell_type": "code",
      "execution_count": 2,
      "id": "88ebe034",
      "metadata": {
        "execution": {
          "iopub.execute_input": "2022-09-19T09:06:14.593163Z",
          "iopub.status.busy": "2022-09-19T09:06:14.592225Z",
          "iopub.status.idle": "2022-09-19T09:06:14.635325Z",
          "shell.execute_reply": "2022-09-19T09:06:14.634084Z"
        },
        "papermill": {
          "duration": 0.054522,
          "end_time": "2022-09-19T09:06:14.637994",
          "exception": false,
          "start_time": "2022-09-19T09:06:14.583472",
          "status": "completed"
        },
        "tags": [],
        "colab": {
          "base_uri": "https://localhost:8080/",
          "height": 206
        },
        "id": "88ebe034",
        "outputId": "c92a2a43-0be4-41ef-cd1c-abbc71746032"
      },
      "outputs": [
        {
          "output_type": "execute_result",
          "data": {
            "text/plain": [
              "   Gender  Hemoglobin   MCH  MCHC   MCV  Result\n",
              "0       1        14.9  22.7  29.1  83.7       0\n",
              "1       0        15.9  25.4  28.3  72.0       0\n",
              "2       0         9.0  21.5  29.6  71.2       1\n",
              "3       0        14.9  16.0  31.4  87.5       0\n",
              "4       1        14.7  22.0  28.2  99.5       0"
            ],
            "text/html": [
              "\n",
              "  <div id=\"df-8d815493-2b21-4a67-81e0-2b1262d960a4\">\n",
              "    <div class=\"colab-df-container\">\n",
              "      <div>\n",
              "<style scoped>\n",
              "    .dataframe tbody tr th:only-of-type {\n",
              "        vertical-align: middle;\n",
              "    }\n",
              "\n",
              "    .dataframe tbody tr th {\n",
              "        vertical-align: top;\n",
              "    }\n",
              "\n",
              "    .dataframe thead th {\n",
              "        text-align: right;\n",
              "    }\n",
              "</style>\n",
              "<table border=\"1\" class=\"dataframe\">\n",
              "  <thead>\n",
              "    <tr style=\"text-align: right;\">\n",
              "      <th></th>\n",
              "      <th>Gender</th>\n",
              "      <th>Hemoglobin</th>\n",
              "      <th>MCH</th>\n",
              "      <th>MCHC</th>\n",
              "      <th>MCV</th>\n",
              "      <th>Result</th>\n",
              "    </tr>\n",
              "  </thead>\n",
              "  <tbody>\n",
              "    <tr>\n",
              "      <th>0</th>\n",
              "      <td>1</td>\n",
              "      <td>14.9</td>\n",
              "      <td>22.7</td>\n",
              "      <td>29.1</td>\n",
              "      <td>83.7</td>\n",
              "      <td>0</td>\n",
              "    </tr>\n",
              "    <tr>\n",
              "      <th>1</th>\n",
              "      <td>0</td>\n",
              "      <td>15.9</td>\n",
              "      <td>25.4</td>\n",
              "      <td>28.3</td>\n",
              "      <td>72.0</td>\n",
              "      <td>0</td>\n",
              "    </tr>\n",
              "    <tr>\n",
              "      <th>2</th>\n",
              "      <td>0</td>\n",
              "      <td>9.0</td>\n",
              "      <td>21.5</td>\n",
              "      <td>29.6</td>\n",
              "      <td>71.2</td>\n",
              "      <td>1</td>\n",
              "    </tr>\n",
              "    <tr>\n",
              "      <th>3</th>\n",
              "      <td>0</td>\n",
              "      <td>14.9</td>\n",
              "      <td>16.0</td>\n",
              "      <td>31.4</td>\n",
              "      <td>87.5</td>\n",
              "      <td>0</td>\n",
              "    </tr>\n",
              "    <tr>\n",
              "      <th>4</th>\n",
              "      <td>1</td>\n",
              "      <td>14.7</td>\n",
              "      <td>22.0</td>\n",
              "      <td>28.2</td>\n",
              "      <td>99.5</td>\n",
              "      <td>0</td>\n",
              "    </tr>\n",
              "  </tbody>\n",
              "</table>\n",
              "</div>\n",
              "      <button class=\"colab-df-convert\" onclick=\"convertToInteractive('df-8d815493-2b21-4a67-81e0-2b1262d960a4')\"\n",
              "              title=\"Convert this dataframe to an interactive table.\"\n",
              "              style=\"display:none;\">\n",
              "        \n",
              "  <svg xmlns=\"http://www.w3.org/2000/svg\" height=\"24px\"viewBox=\"0 0 24 24\"\n",
              "       width=\"24px\">\n",
              "    <path d=\"M0 0h24v24H0V0z\" fill=\"none\"/>\n",
              "    <path d=\"M18.56 5.44l.94 2.06.94-2.06 2.06-.94-2.06-.94-.94-2.06-.94 2.06-2.06.94zm-11 1L8.5 8.5l.94-2.06 2.06-.94-2.06-.94L8.5 2.5l-.94 2.06-2.06.94zm10 10l.94 2.06.94-2.06 2.06-.94-2.06-.94-.94-2.06-.94 2.06-2.06.94z\"/><path d=\"M17.41 7.96l-1.37-1.37c-.4-.4-.92-.59-1.43-.59-.52 0-1.04.2-1.43.59L10.3 9.45l-7.72 7.72c-.78.78-.78 2.05 0 2.83L4 21.41c.39.39.9.59 1.41.59.51 0 1.02-.2 1.41-.59l7.78-7.78 2.81-2.81c.8-.78.8-2.07 0-2.86zM5.41 20L4 18.59l7.72-7.72 1.47 1.35L5.41 20z\"/>\n",
              "  </svg>\n",
              "      </button>\n",
              "      \n",
              "  <style>\n",
              "    .colab-df-container {\n",
              "      display:flex;\n",
              "      flex-wrap:wrap;\n",
              "      gap: 12px;\n",
              "    }\n",
              "\n",
              "    .colab-df-convert {\n",
              "      background-color: #E8F0FE;\n",
              "      border: none;\n",
              "      border-radius: 50%;\n",
              "      cursor: pointer;\n",
              "      display: none;\n",
              "      fill: #1967D2;\n",
              "      height: 32px;\n",
              "      padding: 0 0 0 0;\n",
              "      width: 32px;\n",
              "    }\n",
              "\n",
              "    .colab-df-convert:hover {\n",
              "      background-color: #E2EBFA;\n",
              "      box-shadow: 0px 1px 2px rgba(60, 64, 67, 0.3), 0px 1px 3px 1px rgba(60, 64, 67, 0.15);\n",
              "      fill: #174EA6;\n",
              "    }\n",
              "\n",
              "    [theme=dark] .colab-df-convert {\n",
              "      background-color: #3B4455;\n",
              "      fill: #D2E3FC;\n",
              "    }\n",
              "\n",
              "    [theme=dark] .colab-df-convert:hover {\n",
              "      background-color: #434B5C;\n",
              "      box-shadow: 0px 1px 3px 1px rgba(0, 0, 0, 0.15);\n",
              "      filter: drop-shadow(0px 1px 2px rgba(0, 0, 0, 0.3));\n",
              "      fill: #FFFFFF;\n",
              "    }\n",
              "  </style>\n",
              "\n",
              "      <script>\n",
              "        const buttonEl =\n",
              "          document.querySelector('#df-8d815493-2b21-4a67-81e0-2b1262d960a4 button.colab-df-convert');\n",
              "        buttonEl.style.display =\n",
              "          google.colab.kernel.accessAllowed ? 'block' : 'none';\n",
              "\n",
              "        async function convertToInteractive(key) {\n",
              "          const element = document.querySelector('#df-8d815493-2b21-4a67-81e0-2b1262d960a4');\n",
              "          const dataTable =\n",
              "            await google.colab.kernel.invokeFunction('convertToInteractive',\n",
              "                                                     [key], {});\n",
              "          if (!dataTable) return;\n",
              "\n",
              "          const docLinkHtml = 'Like what you see? Visit the ' +\n",
              "            '<a target=\"_blank\" href=https://colab.research.google.com/notebooks/data_table.ipynb>data table notebook</a>'\n",
              "            + ' to learn more about interactive tables.';\n",
              "          element.innerHTML = '';\n",
              "          dataTable['output_type'] = 'display_data';\n",
              "          await google.colab.output.renderOutput(dataTable, element);\n",
              "          const docLink = document.createElement('div');\n",
              "          docLink.innerHTML = docLinkHtml;\n",
              "          element.appendChild(docLink);\n",
              "        }\n",
              "      </script>\n",
              "    </div>\n",
              "  </div>\n",
              "  "
            ]
          },
          "metadata": {},
          "execution_count": 2
        }
      ],
      "source": [
        "# loading the dataset\n",
        "df = pd.read_csv('/content/anemia_dataset.csv')\n",
        "df.head()"
      ]
    },
    {
      "cell_type": "code",
      "execution_count": 3,
      "id": "5bea8a86",
      "metadata": {
        "execution": {
          "iopub.execute_input": "2022-09-19T09:06:14.656090Z",
          "iopub.status.busy": "2022-09-19T09:06:14.655634Z",
          "iopub.status.idle": "2022-09-19T09:06:14.666406Z",
          "shell.execute_reply": "2022-09-19T09:06:14.664897Z"
        },
        "papermill": {
          "duration": 0.02274,
          "end_time": "2022-09-19T09:06:14.669013",
          "exception": false,
          "start_time": "2022-09-19T09:06:14.646273",
          "status": "completed"
        },
        "tags": [],
        "colab": {
          "base_uri": "https://localhost:8080/"
        },
        "id": "5bea8a86",
        "outputId": "03712956-b1bb-4b68-bcc1-253e44c76578"
      },
      "outputs": [
        {
          "output_type": "execute_result",
          "data": {
            "text/plain": [
              "Gender        0\n",
              "Hemoglobin    0\n",
              "MCH           0\n",
              "MCHC          0\n",
              "MCV           0\n",
              "Result        0\n",
              "dtype: int64"
            ]
          },
          "metadata": {},
          "execution_count": 3
        }
      ],
      "source": [
        "# checking the nulls\n",
        "df.isnull().sum()"
      ]
    },
    {
      "cell_type": "code",
      "source": [
        "# droping the duplicates if any\n",
        "df = df.drop_duplicates()"
      ],
      "metadata": {
        "id": "PJIkF4jy4m0r"
      },
      "id": "PJIkF4jy4m0r",
      "execution_count": 4,
      "outputs": []
    },
    {
      "cell_type": "code",
      "execution_count": 5,
      "id": "0e1d4b83",
      "metadata": {
        "execution": {
          "iopub.execute_input": "2022-09-19T09:06:14.689676Z",
          "iopub.status.busy": "2022-09-19T09:06:14.688675Z",
          "iopub.status.idle": "2022-09-19T09:06:14.696213Z",
          "shell.execute_reply": "2022-09-19T09:06:14.695323Z"
        },
        "papermill": {
          "duration": 0.020985,
          "end_time": "2022-09-19T09:06:14.698519",
          "exception": false,
          "start_time": "2022-09-19T09:06:14.677534",
          "status": "completed"
        },
        "tags": [],
        "colab": {
          "base_uri": "https://localhost:8080/"
        },
        "id": "0e1d4b83",
        "outputId": "13a9e011-697e-43ea-bb97-4e2fd8f3dfb0"
      },
      "outputs": [
        {
          "output_type": "execute_result",
          "data": {
            "text/plain": [
              "Gender          int64\n",
              "Hemoglobin    float64\n",
              "MCH           float64\n",
              "MCHC          float64\n",
              "MCV           float64\n",
              "Result          int64\n",
              "dtype: object"
            ]
          },
          "metadata": {},
          "execution_count": 5
        }
      ],
      "source": [
        "# checking the datatypes\n",
        "df.dtypes"
      ]
    },
    {
      "cell_type": "code",
      "execution_count": 6,
      "id": "e9f3df35",
      "metadata": {
        "execution": {
          "iopub.execute_input": "2022-09-19T09:06:14.717958Z",
          "iopub.status.busy": "2022-09-19T09:06:14.717196Z",
          "iopub.status.idle": "2022-09-19T09:06:14.741081Z",
          "shell.execute_reply": "2022-09-19T09:06:14.739932Z"
        },
        "papermill": {
          "duration": 0.036451,
          "end_time": "2022-09-19T09:06:14.743560",
          "exception": false,
          "start_time": "2022-09-19T09:06:14.707109",
          "status": "completed"
        },
        "tags": [],
        "colab": {
          "base_uri": "https://localhost:8080/"
        },
        "id": "e9f3df35",
        "outputId": "b03feb65-4ae9-4be7-e66d-ac0b8b5884b1"
      },
      "outputs": [
        {
          "output_type": "execute_result",
          "data": {
            "text/plain": [
              "Gender        category\n",
              "Hemoglobin     float64\n",
              "MCH            float64\n",
              "MCHC           float64\n",
              "MCV            float64\n",
              "Result        category\n",
              "dtype: object"
            ]
          },
          "metadata": {},
          "execution_count": 6
        }
      ],
      "source": [
        "# converting Gender and Result into objects\n",
        "df[['Gender', 'Result']] = df[['Gender', 'Result']].astype('category')\n",
        "cat_features = ['Gender', 'Result']\n",
        "num_features = df.columns.drop(cat_features)\n",
        "df.dtypes"
      ]
    },
    {
      "cell_type": "code",
      "execution_count": 7,
      "id": "8842474d",
      "metadata": {
        "execution": {
          "iopub.execute_input": "2022-09-19T09:06:14.762904Z",
          "iopub.status.busy": "2022-09-19T09:06:14.762233Z",
          "iopub.status.idle": "2022-09-19T09:06:14.792236Z",
          "shell.execute_reply": "2022-09-19T09:06:14.791248Z"
        },
        "papermill": {
          "duration": 0.04267,
          "end_time": "2022-09-19T09:06:14.794870",
          "exception": false,
          "start_time": "2022-09-19T09:06:14.752200",
          "status": "completed"
        },
        "tags": [],
        "colab": {
          "base_uri": "https://localhost:8080/",
          "height": 300
        },
        "id": "8842474d",
        "outputId": "0a5c2fb4-37af-4b0f-e4fd-a9765639dbfc"
      },
      "outputs": [
        {
          "output_type": "execute_result",
          "data": {
            "text/plain": [
              "       Hemoglobin         MCH        MCHC         MCV\n",
              "count  534.000000  534.000000  534.000000  534.000000\n",
              "mean    13.287079   22.911985   30.249438   85.647004\n",
              "std      2.066276    3.948482    1.412312    9.604934\n",
              "min      6.600000   16.000000   27.800000   69.400000\n",
              "25%     11.600000   19.500000   29.000000   77.325000\n",
              "50%     13.100000   22.750000   30.400000   85.450000\n",
              "75%     14.975000   26.100000   31.475000   94.150000\n",
              "max     16.900000   30.000000   32.500000  101.600000"
            ],
            "text/html": [
              "\n",
              "  <div id=\"df-e4dc2278-e5b7-4b6d-8356-abb9df40fbb4\">\n",
              "    <div class=\"colab-df-container\">\n",
              "      <div>\n",
              "<style scoped>\n",
              "    .dataframe tbody tr th:only-of-type {\n",
              "        vertical-align: middle;\n",
              "    }\n",
              "\n",
              "    .dataframe tbody tr th {\n",
              "        vertical-align: top;\n",
              "    }\n",
              "\n",
              "    .dataframe thead th {\n",
              "        text-align: right;\n",
              "    }\n",
              "</style>\n",
              "<table border=\"1\" class=\"dataframe\">\n",
              "  <thead>\n",
              "    <tr style=\"text-align: right;\">\n",
              "      <th></th>\n",
              "      <th>Hemoglobin</th>\n",
              "      <th>MCH</th>\n",
              "      <th>MCHC</th>\n",
              "      <th>MCV</th>\n",
              "    </tr>\n",
              "  </thead>\n",
              "  <tbody>\n",
              "    <tr>\n",
              "      <th>count</th>\n",
              "      <td>534.000000</td>\n",
              "      <td>534.000000</td>\n",
              "      <td>534.000000</td>\n",
              "      <td>534.000000</td>\n",
              "    </tr>\n",
              "    <tr>\n",
              "      <th>mean</th>\n",
              "      <td>13.287079</td>\n",
              "      <td>22.911985</td>\n",
              "      <td>30.249438</td>\n",
              "      <td>85.647004</td>\n",
              "    </tr>\n",
              "    <tr>\n",
              "      <th>std</th>\n",
              "      <td>2.066276</td>\n",
              "      <td>3.948482</td>\n",
              "      <td>1.412312</td>\n",
              "      <td>9.604934</td>\n",
              "    </tr>\n",
              "    <tr>\n",
              "      <th>min</th>\n",
              "      <td>6.600000</td>\n",
              "      <td>16.000000</td>\n",
              "      <td>27.800000</td>\n",
              "      <td>69.400000</td>\n",
              "    </tr>\n",
              "    <tr>\n",
              "      <th>25%</th>\n",
              "      <td>11.600000</td>\n",
              "      <td>19.500000</td>\n",
              "      <td>29.000000</td>\n",
              "      <td>77.325000</td>\n",
              "    </tr>\n",
              "    <tr>\n",
              "      <th>50%</th>\n",
              "      <td>13.100000</td>\n",
              "      <td>22.750000</td>\n",
              "      <td>30.400000</td>\n",
              "      <td>85.450000</td>\n",
              "    </tr>\n",
              "    <tr>\n",
              "      <th>75%</th>\n",
              "      <td>14.975000</td>\n",
              "      <td>26.100000</td>\n",
              "      <td>31.475000</td>\n",
              "      <td>94.150000</td>\n",
              "    </tr>\n",
              "    <tr>\n",
              "      <th>max</th>\n",
              "      <td>16.900000</td>\n",
              "      <td>30.000000</td>\n",
              "      <td>32.500000</td>\n",
              "      <td>101.600000</td>\n",
              "    </tr>\n",
              "  </tbody>\n",
              "</table>\n",
              "</div>\n",
              "      <button class=\"colab-df-convert\" onclick=\"convertToInteractive('df-e4dc2278-e5b7-4b6d-8356-abb9df40fbb4')\"\n",
              "              title=\"Convert this dataframe to an interactive table.\"\n",
              "              style=\"display:none;\">\n",
              "        \n",
              "  <svg xmlns=\"http://www.w3.org/2000/svg\" height=\"24px\"viewBox=\"0 0 24 24\"\n",
              "       width=\"24px\">\n",
              "    <path d=\"M0 0h24v24H0V0z\" fill=\"none\"/>\n",
              "    <path d=\"M18.56 5.44l.94 2.06.94-2.06 2.06-.94-2.06-.94-.94-2.06-.94 2.06-2.06.94zm-11 1L8.5 8.5l.94-2.06 2.06-.94-2.06-.94L8.5 2.5l-.94 2.06-2.06.94zm10 10l.94 2.06.94-2.06 2.06-.94-2.06-.94-.94-2.06-.94 2.06-2.06.94z\"/><path d=\"M17.41 7.96l-1.37-1.37c-.4-.4-.92-.59-1.43-.59-.52 0-1.04.2-1.43.59L10.3 9.45l-7.72 7.72c-.78.78-.78 2.05 0 2.83L4 21.41c.39.39.9.59 1.41.59.51 0 1.02-.2 1.41-.59l7.78-7.78 2.81-2.81c.8-.78.8-2.07 0-2.86zM5.41 20L4 18.59l7.72-7.72 1.47 1.35L5.41 20z\"/>\n",
              "  </svg>\n",
              "      </button>\n",
              "      \n",
              "  <style>\n",
              "    .colab-df-container {\n",
              "      display:flex;\n",
              "      flex-wrap:wrap;\n",
              "      gap: 12px;\n",
              "    }\n",
              "\n",
              "    .colab-df-convert {\n",
              "      background-color: #E8F0FE;\n",
              "      border: none;\n",
              "      border-radius: 50%;\n",
              "      cursor: pointer;\n",
              "      display: none;\n",
              "      fill: #1967D2;\n",
              "      height: 32px;\n",
              "      padding: 0 0 0 0;\n",
              "      width: 32px;\n",
              "    }\n",
              "\n",
              "    .colab-df-convert:hover {\n",
              "      background-color: #E2EBFA;\n",
              "      box-shadow: 0px 1px 2px rgba(60, 64, 67, 0.3), 0px 1px 3px 1px rgba(60, 64, 67, 0.15);\n",
              "      fill: #174EA6;\n",
              "    }\n",
              "\n",
              "    [theme=dark] .colab-df-convert {\n",
              "      background-color: #3B4455;\n",
              "      fill: #D2E3FC;\n",
              "    }\n",
              "\n",
              "    [theme=dark] .colab-df-convert:hover {\n",
              "      background-color: #434B5C;\n",
              "      box-shadow: 0px 1px 3px 1px rgba(0, 0, 0, 0.15);\n",
              "      filter: drop-shadow(0px 1px 2px rgba(0, 0, 0, 0.3));\n",
              "      fill: #FFFFFF;\n",
              "    }\n",
              "  </style>\n",
              "\n",
              "      <script>\n",
              "        const buttonEl =\n",
              "          document.querySelector('#df-e4dc2278-e5b7-4b6d-8356-abb9df40fbb4 button.colab-df-convert');\n",
              "        buttonEl.style.display =\n",
              "          google.colab.kernel.accessAllowed ? 'block' : 'none';\n",
              "\n",
              "        async function convertToInteractive(key) {\n",
              "          const element = document.querySelector('#df-e4dc2278-e5b7-4b6d-8356-abb9df40fbb4');\n",
              "          const dataTable =\n",
              "            await google.colab.kernel.invokeFunction('convertToInteractive',\n",
              "                                                     [key], {});\n",
              "          if (!dataTable) return;\n",
              "\n",
              "          const docLinkHtml = 'Like what you see? Visit the ' +\n",
              "            '<a target=\"_blank\" href=https://colab.research.google.com/notebooks/data_table.ipynb>data table notebook</a>'\n",
              "            + ' to learn more about interactive tables.';\n",
              "          element.innerHTML = '';\n",
              "          dataTable['output_type'] = 'display_data';\n",
              "          await google.colab.output.renderOutput(dataTable, element);\n",
              "          const docLink = document.createElement('div');\n",
              "          docLink.innerHTML = docLinkHtml;\n",
              "          element.appendChild(docLink);\n",
              "        }\n",
              "      </script>\n",
              "    </div>\n",
              "  </div>\n",
              "  "
            ]
          },
          "metadata": {},
          "execution_count": 7
        }
      ],
      "source": [
        "# getting a statistical summary of dataset\n",
        "df.describe()"
      ]
    },
    {
      "cell_type": "code",
      "execution_count": 8,
      "id": "d32cc506",
      "metadata": {
        "execution": {
          "iopub.execute_input": "2022-09-19T09:06:14.816751Z",
          "iopub.status.busy": "2022-09-19T09:06:14.815435Z",
          "iopub.status.idle": "2022-09-19T09:06:15.026554Z",
          "shell.execute_reply": "2022-09-19T09:06:15.025631Z"
        },
        "papermill": {
          "duration": 0.225654,
          "end_time": "2022-09-19T09:06:15.029352",
          "exception": false,
          "start_time": "2022-09-19T09:06:14.803698",
          "status": "completed"
        },
        "tags": [],
        "colab": {
          "base_uri": "https://localhost:8080/",
          "height": 265
        },
        "id": "d32cc506",
        "outputId": "2fd9924a-4390-487e-8703-65b53d85c048"
      },
      "outputs": [
        {
          "output_type": "display_data",
          "data": {
            "text/plain": [
              "<Figure size 432x288 with 1 Axes>"
            ],
            "image/png": "[encoded data removed]"
          },
          "metadata": {
            "needs_background": "light"
          }
        }
      ],
      "source": [
        "# checking if the dataset is balanced\n",
        "df['Result'].value_counts().plot.barh();"
      ]
    },
    {
      "cell_type": "code",
      "execution_count": 9,
      "id": "b0fe1f49",
      "metadata": {
        "execution": {
          "iopub.execute_input": "2022-09-19T09:06:15.248844Z",
          "iopub.status.busy": "2022-09-19T09:06:15.248422Z",
          "iopub.status.idle": "2022-09-19T09:06:16.073472Z",
          "shell.execute_reply": "2022-09-19T09:06:16.071635Z"
        },
        "papermill": {
          "duration": 0.840032,
          "end_time": "2022-09-19T09:06:16.077930",
          "exception": false,
          "start_time": "2022-09-19T09:06:15.237898",
          "status": "completed"
        },
        "tags": [],
        "colab": {
          "base_uri": "https://localhost:8080/",
          "height": 256
        },
        "id": "b0fe1f49",
        "outputId": "1738c9fa-4c7e-483c-ad39-9d8784692786"
      },
      "outputs": [
        {
          "output_type": "display_data",
          "data": {
            "text/plain": [
              "<Figure size 864x288 with 4 Axes>"
            ],
            "image/png": "[encoded data removed]"
          },
          "metadata": {
            "needs_background": "light"
          }
        }
      ],
      "source": [
        "# checking the distribution of the numeric features\n",
        "df[num_features].plot(kind='density', subplots=True, layout=(1,4), sharex=False, legend=True, fontsize=1, figsize=(12,4))\n",
        "plt.show()"
      ]
    },
    {
      "cell_type": "code",
      "execution_count": 10,
      "id": "7c77f623",
      "metadata": {
        "execution": {
          "iopub.execute_input": "2022-09-19T09:06:16.132632Z",
          "iopub.status.busy": "2022-09-19T09:06:16.132050Z",
          "iopub.status.idle": "2022-09-19T09:06:16.608575Z",
          "shell.execute_reply": "2022-09-19T09:06:16.607636Z"
        },
        "papermill": {
          "duration": 0.493995,
          "end_time": "2022-09-19T09:06:16.611096",
          "exception": false,
          "start_time": "2022-09-19T09:06:16.117101",
          "status": "completed"
        },
        "tags": [],
        "colab": {
          "base_uri": "https://localhost:8080/",
          "height": 256
        },
        "id": "7c77f623",
        "outputId": "8033556d-86f1-4b96-a095-8a1660935b07"
      },
      "outputs": [
        {
          "output_type": "display_data",
          "data": {
            "text/plain": [
              "<Figure size 864x288 with 4 Axes>"
            ],
            "image/png": "[encoded data removed]"
          },
          "metadata": {
            "needs_background": "light"
          }
        }
      ],
      "source": [
        "# checking if there is any outlier in the numeric features\n",
        "df[num_features].plot(kind='box', subplots=True, layout=(1,4), sharex=False, legend=True, fontsize=1, figsize=(12,4))\n",
        "plt.show()"
      ]
    },
    {
      "cell_type": "code",
      "execution_count": 11,
      "id": "a218b84b",
      "metadata": {
        "execution": {
          "iopub.execute_input": "2022-09-19T09:06:16.654748Z",
          "iopub.status.busy": "2022-09-19T09:06:16.653961Z",
          "iopub.status.idle": "2022-09-19T09:06:16.946352Z",
          "shell.execute_reply": "2022-09-19T09:06:16.944948Z"
        },
        "papermill": {
          "duration": 0.307919,
          "end_time": "2022-09-19T09:06:16.950315",
          "exception": false,
          "start_time": "2022-09-19T09:06:16.642396",
          "status": "completed"
        },
        "tags": [],
        "colab": {
          "base_uri": "https://localhost:8080/",
          "height": 320
        },
        "id": "a218b84b",
        "outputId": "7653dd18-887f-482b-b8b9-64472381cb95"
      },
      "outputs": [
        {
          "output_type": "display_data",
          "data": {
            "text/plain": [
              "<Figure size 360x360 with 1 Axes>"
            ],
            "image/png": "[encoded data removed]"
          },
          "metadata": {
            "needs_background": "light"
          }
        }
      ],
      "source": [
        "# finding the correlation\n",
        "fig = plt.figure(figsize=(5,5))\n",
        "sns.heatmap(df.drop(['Gender', 'Result'], axis=1).corr(), annot=True, square=True, cmap='Purples', cbar=False)\n",
        "plt.show()"
      ]
    },
    {
      "cell_type": "code",
      "execution_count": 12,
      "id": "007fb5ed",
      "metadata": {
        "execution": {
          "iopub.execute_input": "2022-09-19T09:06:18.492909Z",
          "iopub.status.busy": "2022-09-19T09:06:18.492520Z",
          "iopub.status.idle": "2022-09-19T09:06:18.500599Z",
          "shell.execute_reply": "2022-09-19T09:06:18.499690Z"
        },
        "papermill": {
          "duration": 0.023768,
          "end_time": "2022-09-19T09:06:18.503172",
          "exception": false,
          "start_time": "2022-09-19T09:06:18.479404",
          "status": "completed"
        },
        "tags": [],
        "id": "007fb5ed"
      },
      "outputs": [],
      "source": [
        "# creating X & y\n",
        "X = df.drop('Result', axis=1)\n",
        "y = df['Result']"
      ]
    },
    {
      "cell_type": "code",
      "source": [
        "# splitting the data into training & testing sets\n",
        "X_train, X_test, y_train, y_test = train_test_split(X, y, test_size=0.2, random_state=101)"
      ],
      "metadata": {
        "id": "zZT24lv8_tro"
      },
      "id": "zZT24lv8_tro",
      "execution_count": 13,
      "outputs": []
    },
    {
      "cell_type": "code",
      "source": [
        "# training a model\n",
        "model = DecisionTreeClassifier(random_state=101)\n",
        "model.fit(X_train, y_train)"
      ],
      "metadata": {
        "colab": {
          "base_uri": "https://localhost:8080/"
        },
        "id": "e5mjf5eFBAm7",
        "outputId": "cf8254c5-0751-4e8d-b858-35efc945ed8d"
      },
      "id": "e5mjf5eFBAm7",
      "execution_count": 14,
      "outputs": [
        {
          "output_type": "execute_result",
          "data": {
            "text/plain": [
              "DecisionTreeClassifier(random_state=101)"
            ]
          },
          "metadata": {},
          "execution_count": 14
        }
      ]
    },
    {
      "cell_type": "code",
      "source": [
        "# checking the accuracy\n",
        "print(f\"Training accuracy: {round(accuracy_score(y_train, model.predict(X_train)) * 100, 2)}\")\n",
        "print(f\"Testing accuracy: {round(accuracy_score(y_test, model.predict(X_test)) * 100, 2)}\")"
      ],
      "metadata": {
        "colab": {
          "base_uri": "https://localhost:8080/"
        },
        "id": "Uv_MaArXA96G",
        "outputId": "3fd4f93f-17b2-40b6-a30b-07504de07496"
      },
      "id": "Uv_MaArXA96G",
      "execution_count": 15,
      "outputs": [
        {
          "output_type": "stream",
          "name": "stdout",
          "text": [
            "Training accuracy: 100.0\n",
            "Testing accuracy: 100.0\n"
          ]
        }
      ]
    },
    {
      "cell_type": "code",
      "source": [
        "# creating a CM\n",
        "confusion_matrix(y_test, model.predict(X_test))"
      ],
      "metadata": {
        "colab": {
          "base_uri": "https://localhost:8080/"
        },
        "id": "RO07dr2EBfRl",
        "outputId": "77c4f572-cee9-4b21-92c6-bf2af9b75233"
      },
      "id": "RO07dr2EBfRl",
      "execution_count": 16,
      "outputs": [
        {
          "output_type": "execute_result",
          "data": {
            "text/plain": [
              "array([[57,  0],\n",
              "       [ 0, 50]])"
            ]
          },
          "metadata": {},
          "execution_count": 16
        }
      ]
    },
    {
      "cell_type": "code",
      "source": [
        "# printing the clf report\n",
        "print(classification_report(y_test, model.predict(X_test)))"
      ],
      "metadata": {
        "colab": {
          "base_uri": "https://localhost:8080/"
        },
        "id": "0qSLal-T47wT",
        "outputId": "02c60045-c3f7-4cde-a275-674f5f51810f"
      },
      "id": "0qSLal-T47wT",
      "execution_count": 17,
      "outputs": [
        {
          "output_type": "stream",
          "name": "stdout",
          "text": [
            "              precision    recall  f1-score   support\n",
            "\n",
            "           0       1.00      1.00      1.00        57\n",
            "           1       1.00      1.00      1.00        50\n",
            "\n",
            "    accuracy                           1.00       107\n",
            "   macro avg       1.00      1.00      1.00       107\n",
            "weighted avg       1.00      1.00      1.00       107\n",
            "\n"
          ]
        }
      ]
    }
  ],
  "metadata": {
    "kernelspec": {
      "display_name": "Python 3",
      "language": "python",
      "name": "python3"
    },
    "language_info": {
      "codemirror_mode": {
        "name": "ipython",
        "version": 3
      },
      "file_extension": ".py",
      "mimetype": "text/x-python",
      "name": "python",
      "nbconvert_exporter": "python",
      "pygments_lexer": "ipython3",
      "version": "3.7.12"
    },
    "papermill": {
      "default_parameters": {},
      "duration": 17.109889,
      "end_time": "2022-09-19T09:06:21.052650",
      "environment_variables": {},
      "exception": null,
      "input_path": "__notebook__.ipynb",
      "output_path": "__notebook__.ipynb",
      "parameters": {},
      "start_time": "2022-09-19T09:06:03.942761",
      "version": "2.3.4"
    },
    "colab": {
      "provenance": []
    }
  },
  "nbformat": 4,
  "nbformat_minor": 5
}