{
  "nbformat": 4,
  "nbformat_minor": 0,
  "metadata": {
    "colab": {
      "provenance": []
    },
    "kernelspec": {
      "name": "python3",
      "display_name": "Python 3"
    },
    "language_info": {
      "name": "python"
    }
  },
  "cells": [
    {
      "cell_type": "code",
      "source": [
        "# downloding lightgbm\n",
        "!pip install -qU lightgbm"
      ],
      "metadata": {
        "id": "4y86AfCHNVSl"
      },
      "execution_count": 1,
      "outputs": []
    },
    {
      "cell_type": "code",
      "execution_count": 2,
      "metadata": {
        "id": "3uIc8Q_Z_Zmb"
      },
      "outputs": [],
      "source": [
        "# imports\n",
        "import seaborn as sns\n",
        "import pandas as pd\n",
        "from sklearn.model_selection import train_test_split\n",
        "import lightgbm as lgbm\n",
        "from sklearn.metrics import r2_score\n",
        "import warnings\n",
        "warnings.filterwarnings('ignore')"
      ]
    },
    {
      "cell_type": "code",
      "source": [
        "# loading data\n",
        "df = sns.load_dataset('penguins')\n",
        "df.head()"
      ],
      "metadata": {
        "colab": {
          "base_uri": "https://localhost:8080/",
          "height": 206
        },
        "id": "fltKiFzwANOR",
        "outputId": "5d1c3528-a524-46d9-ffe3-bca39095da9a"
      },
      "execution_count": 3,
      "outputs": [
        {
          "output_type": "execute_result",
          "data": {
            "text/plain": [
              "  species     island  bill_length_mm  bill_depth_mm  flipper_length_mm  \\\n",
              "0  Adelie  Torgersen            39.1           18.7              181.0   \n",
              "1  Adelie  Torgersen            39.5           17.4              186.0   \n",
              "2  Adelie  Torgersen            40.3           18.0              195.0   \n",
              "3  Adelie  Torgersen             NaN            NaN                NaN   \n",
              "4  Adelie  Torgersen            36.7           19.3              193.0   \n",
              "\n",
              "   body_mass_g     sex  \n",
              "0       3750.0    Male  \n",
              "1       3800.0  Female  \n",
              "2       3250.0  Female  \n",
              "3          NaN     NaN  \n",
              "4       3450.0  Female  "
            ],
            "text/html": [
              "\n",
              "  <div id=\"df-379fa5ab-0e2a-4ede-96af-3a908edef0de\">\n",
              "    <div class=\"colab-df-container\">\n",
              "      <div>\n",
              "<style scoped>\n",
              "    .dataframe tbody tr th:only-of-type {\n",
              "        vertical-align: middle;\n",
              "    }\n",
              "\n",
              "    .dataframe tbody tr th {\n",
              "        vertical-align: top;\n",
              "    }\n",
              "\n",
              "    .dataframe thead th {\n",
              "        text-align: right;\n",
              "    }\n",
              "</style>\n",
              "<table border=\"1\" class=\"dataframe\">\n",
              "  <thead>\n",
              "    <tr style=\"text-align: right;\">\n",
              "      <th></th>\n",
              "      <th>species</th>\n",
              "      <th>island</th>\n",
              "      <th>bill_length_mm</th>\n",
              "      <th>bill_depth_mm</th>\n",
              "      <th>flipper_length_mm</th>\n",
              "      <th>body_mass_g</th>\n",
              "      <th>sex</th>\n",
              "    </tr>\n",
              "  </thead>\n",
              "  <tbody>\n",
              "    <tr>\n",
              "      <th>0</th>\n",
              "      <td>Adelie</td>\n",
              "      <td>Torgersen</td>\n",
              "      <td>39.1</td>\n",
              "      <td>18.7</td>\n",
              "      <td>181.0</td>\n",
              "      <td>3750.0</td>\n",
              "      <td>Male</td>\n",
              "    </tr>\n",
              "    <tr>\n",
              "      <th>1</th>\n",
              "      <td>Adelie</td>\n",
              "      <td>Torgersen</td>\n",
              "      <td>39.5</td>\n",
              "      <td>17.4</td>\n",
              "      <td>186.0</td>\n",
              "      <td>3800.0</td>\n",
              "      <td>Female</td>\n",
              "    </tr>\n",
              "    <tr>\n",
              "      <th>2</th>\n",
              "      <td>Adelie</td>\n",
              "      <td>Torgersen</td>\n",
              "      <td>40.3</td>\n",
              "      <td>18.0</td>\n",
              "      <td>195.0</td>\n",
              "      <td>3250.0</td>\n",
              "      <td>Female</td>\n",
              "    </tr>\n",
              "    <tr>\n",
              "      <th>3</th>\n",
              "      <td>Adelie</td>\n",
              "      <td>Torgersen</td>\n",
              "      <td>NaN</td>\n",
              "      <td>NaN</td>\n",
              "      <td>NaN</td>\n",
              "      <td>NaN</td>\n",
              "      <td>NaN</td>\n",
              "    </tr>\n",
              "    <tr>\n",
              "      <th>4</th>\n",
              "      <td>Adelie</td>\n",
              "      <td>Torgersen</td>\n",
              "      <td>36.7</td>\n",
              "      <td>19.3</td>\n",
              "      <td>193.0</td>\n",
              "      <td>3450.0</td>\n",
              "      <td>Female</td>\n",
              "    </tr>\n",
              "  </tbody>\n",
              "</table>\n",
              "</div>\n",
              "      <button class=\"colab-df-convert\" onclick=\"convertToInteractive('df-379fa5ab-0e2a-4ede-96af-3a908edef0de')\"\n",
              "              title=\"Convert this dataframe to an interactive table.\"\n",
              "              style=\"display:none;\">\n",
              "        \n",
              "  <svg xmlns=\"http://www.w3.org/2000/svg\" height=\"24px\"viewBox=\"0 0 24 24\"\n",
              "       width=\"24px\">\n",
              "    <path d=\"M0 0h24v24H0V0z\" fill=\"none\"/>\n",
              "    <path d=\"M18.56 5.44l.94 2.06.94-2.06 2.06-.94-2.06-.94-.94-2.06-.94 2.06-2.06.94zm-11 1L8.5 8.5l.94-2.06 2.06-.94-2.06-.94L8.5 2.5l-.94 2.06-2.06.94zm10 10l.94 2.06.94-2.06 2.06-.94-2.06-.94-.94-2.06-.94 2.06-2.06.94z\"/><path d=\"M17.41 7.96l-1.37-1.37c-.4-.4-.92-.59-1.43-.59-.52 0-1.04.2-1.43.59L10.3 9.45l-7.72 7.72c-.78.78-.78 2.05 0 2.83L4 21.41c.39.39.9.59 1.41.59.51 0 1.02-.2 1.41-.59l7.78-7.78 2.81-2.81c.8-.78.8-2.07 0-2.86zM5.41 20L4 18.59l7.72-7.72 1.47 1.35L5.41 20z\"/>\n",
              "  </svg>\n",
              "      </button>\n",
              "      \n",
              "  <style>\n",
              "    .colab-df-container {\n",
              "      display:flex;\n",
              "      flex-wrap:wrap;\n",
              "      gap: 12px;\n",
              "    }\n",
              "\n",
              "    .colab-df-convert {\n",
              "      background-color: #E8F0FE;\n",
              "      border: none;\n",
              "      border-radius: 50%;\n",
              "      cursor: pointer;\n",
              "      display: none;\n",
              "      fill: #1967D2;\n",
              "      height: 32px;\n",
              "      padding: 0 0 0 0;\n",
              "      width: 32px;\n",
              "    }\n",
              "\n",
              "    .colab-df-convert:hover {\n",
              "      background-color: #E2EBFA;\n",
              "      box-shadow: 0px 1px 2px rgba(60, 64, 67, 0.3), 0px 1px 3px 1px rgba(60, 64, 67, 0.15);\n",
              "      fill: #174EA6;\n",
              "    }\n",
              "\n",
              "    [theme=dark] .colab-df-convert {\n",
              "      background-color: #3B4455;\n",
              "      fill: #D2E3FC;\n",
              "    }\n",
              "\n",
              "    [theme=dark] .colab-df-convert:hover {\n",
              "      background-color: #434B5C;\n",
              "      box-shadow: 0px 1px 3px 1px rgba(0, 0, 0, 0.15);\n",
              "      filter: drop-shadow(0px 1px 2px rgba(0, 0, 0, 0.3));\n",
              "      fill: #FFFFFF;\n",
              "    }\n",
              "  </style>\n",
              "\n",
              "      <script>\n",
              "        const buttonEl =\n",
              "          document.querySelector('#df-379fa5ab-0e2a-4ede-96af-3a908edef0de button.colab-df-convert');\n",
              "        buttonEl.style.display =\n",
              "          google.colab.kernel.accessAllowed ? 'block' : 'none';\n",
              "\n",
              "        async function convertToInteractive(key) {\n",
              "          const element = document.querySelector('#df-379fa5ab-0e2a-4ede-96af-3a908edef0de');\n",
              "          const dataTable =\n",
              "            await google.colab.kernel.invokeFunction('convertToInteractive',\n",
              "                                                     [key], {});\n",
              "          if (!dataTable) return;\n",
              "\n",
              "          const docLinkHtml = 'Like what you see? Visit the ' +\n",
              "            '<a target=\"_blank\" href=https://colab.research.google.com/notebooks/data_table.ipynb>data table notebook</a>'\n",
              "            + ' to learn more about interactive tables.';\n",
              "          element.innerHTML = '';\n",
              "          dataTable['output_type'] = 'display_data';\n",
              "          await google.colab.output.renderOutput(dataTable, element);\n",
              "          const docLink = document.createElement('div');\n",
              "          docLink.innerHTML = docLinkHtml;\n",
              "          element.appendChild(docLink);\n",
              "        }\n",
              "      </script>\n",
              "    </div>\n",
              "  </div>\n",
              "  "
            ]
          },
          "metadata": {},
          "execution_count": 3
        }
      ]
    },
    {
      "cell_type": "code",
      "source": [
        "# getting info of dataset\n",
        "df.info()"
      ],
      "metadata": {
        "colab": {
          "base_uri": "https://localhost:8080/"
        },
        "id": "92stDLoXAUii",
        "outputId": "1a478d39-5574-4736-bf20-b4fe8cabc166"
      },
      "execution_count": 4,
      "outputs": [
        {
          "output_type": "stream",
          "name": "stdout",
          "text": [
            "<class 'pandas.core.frame.DataFrame'>\n",
            "RangeIndex: 344 entries, 0 to 343\n",
            "Data columns (total 7 columns):\n",
            " #   Column             Non-Null Count  Dtype  \n",
            "---  ------             --------------  -----  \n",
            " 0   species            344 non-null    object \n",
            " 1   island             344 non-null    object \n",
            " 2   bill_length_mm     342 non-null    float64\n",
            " 3   bill_depth_mm      342 non-null    float64\n",
            " 4   flipper_length_mm  342 non-null    float64\n",
            " 5   body_mass_g        342 non-null    float64\n",
            " 6   sex                333 non-null    object \n",
            "dtypes: float64(4), object(3)\n",
            "memory usage: 18.9+ KB\n"
          ]
        }
      ]
    },
    {
      "cell_type": "code",
      "source": [
        "# converting object features into categorical features\n",
        "for col in df.select_dtypes(['object']).columns:\n",
        "  df[col] = df[col].astype('category')\n",
        "df.info()"
      ],
      "metadata": {
        "colab": {
          "base_uri": "https://localhost:8080/"
        },
        "id": "owi7hGAoAYO3",
        "outputId": "3f5c3ab8-fc04-4f5f-e2d6-cf37e394183f"
      },
      "execution_count": 5,
      "outputs": [
        {
          "output_type": "stream",
          "name": "stdout",
          "text": [
            "<class 'pandas.core.frame.DataFrame'>\n",
            "RangeIndex: 344 entries, 0 to 343\n",
            "Data columns (total 7 columns):\n",
            " #   Column             Non-Null Count  Dtype   \n",
            "---  ------             --------------  -----   \n",
            " 0   species            344 non-null    category\n",
            " 1   island             344 non-null    category\n",
            " 2   bill_length_mm     342 non-null    float64 \n",
            " 3   bill_depth_mm      342 non-null    float64 \n",
            " 4   flipper_length_mm  342 non-null    float64 \n",
            " 5   body_mass_g        342 non-null    float64 \n",
            " 6   sex                333 non-null    category\n",
            "dtypes: category(3), float64(4)\n",
            "memory usage: 12.3 KB\n"
          ]
        }
      ]
    },
    {
      "cell_type": "code",
      "source": [
        "# creating X & y\n",
        "X = df.drop(['bill_length_mm'], axis=1)\n",
        "y = df['bill_length_mm']"
      ],
      "metadata": {
        "id": "vjg0GX6jApz2"
      },
      "execution_count": 6,
      "outputs": []
    },
    {
      "cell_type": "code",
      "source": [
        "# selecting categorical features\n",
        "cat = df.select_dtypes(['object', 'category']).columns.to_list()"
      ],
      "metadata": {
        "id": "dJvZ4U8bXdk4"
      },
      "execution_count": 7,
      "outputs": []
    },
    {
      "cell_type": "code",
      "source": [
        "# splitting X & y into training & testing sets\n",
        "X_train, X_test, y_train, y_test = train_test_split(X, y, test_size=0.2, random_state=18)"
      ],
      "metadata": {
        "id": "Kng3vxN9BHd9"
      },
      "execution_count": 8,
      "outputs": []
    },
    {
      "cell_type": "code",
      "source": [
        "# model training\n",
        "model = lgbm.LGBMRegressor(objective='regression_l2', n_estimators=100, boosting_type='gbdt', learning_rate=0.03, random_state=18)\n",
        "model.fit(X_train, y_train, eval_set=[(X_test, y_test)], categorical_feature=cat)"
      ],
      "metadata": {
        "colab": {
          "base_uri": "https://localhost:8080/",
          "height": 1000
        },
        "id": "MRHFT2oPBYQa",
        "outputId": "2d1cdc5b-c1a3-4db3-dc84-accb715e62f6"
      },
      "execution_count": 9,
      "outputs": [
        {
          "output_type": "stream",
          "name": "stdout",
          "text": [
            "[1]\tvalid_0's l2: 33.6985\n",
            "[2]\tvalid_0's l2: 31.8979\n",
            "[3]\tvalid_0's l2: 30.2047\n",
            "[4]\tvalid_0's l2: 28.6169\n",
            "[5]\tvalid_0's l2: 27.1236\n",
            "[6]\tvalid_0's l2: 25.715\n",
            "[7]\tvalid_0's l2: 24.3904\n",
            "[8]\tvalid_0's l2: 23.1483\n",
            "[9]\tvalid_0's l2: 21.9699\n",
            "[10]\tvalid_0's l2: 20.8677\n",
            "[11]\tvalid_0's l2: 19.7891\n",
            "[12]\tvalid_0's l2: 18.8193\n",
            "[13]\tvalid_0's l2: 17.868\n",
            "[14]\tvalid_0's l2: 17.0046\n",
            "[15]\tvalid_0's l2: 16.1574\n",
            "[16]\tvalid_0's l2: 15.4023\n",
            "[17]\tvalid_0's l2: 14.6508\n",
            "[18]\tvalid_0's l2: 13.9729\n",
            "[19]\tvalid_0's l2: 13.3162\n",
            "[20]\tvalid_0's l2: 12.713\n",
            "[21]\tvalid_0's l2: 12.1504\n",
            "[22]\tvalid_0's l2: 11.6144\n",
            "[23]\tvalid_0's l2: 11.1227\n",
            "[24]\tvalid_0's l2: 10.6627\n",
            "[25]\tvalid_0's l2: 10.2274\n",
            "[26]\tvalid_0's l2: 9.82435\n",
            "[27]\tvalid_0's l2: 9.43926\n",
            "[28]\tvalid_0's l2: 9.11952\n",
            "[29]\tvalid_0's l2: 8.7906\n",
            "[30]\tvalid_0's l2: 8.5006\n",
            "[31]\tvalid_0's l2: 8.20132\n",
            "[32]\tvalid_0's l2: 7.94271\n",
            "[33]\tvalid_0's l2: 7.67351\n",
            "[34]\tvalid_0's l2: 7.4447\n",
            "[35]\tvalid_0's l2: 7.26089\n",
            "[36]\tvalid_0's l2: 7.02277\n",
            "[37]\tvalid_0's l2: 6.85785\n",
            "[38]\tvalid_0's l2: 6.62854\n",
            "[39]\tvalid_0's l2: 6.41171\n",
            "[40]\tvalid_0's l2: 6.21084\n",
            "[41]\tvalid_0's l2: 6.01575\n",
            "[42]\tvalid_0's l2: 5.83493\n",
            "[43]\tvalid_0's l2: 5.66454\n",
            "[44]\tvalid_0's l2: 5.515\n",
            "[45]\tvalid_0's l2: 5.36506\n",
            "[46]\tvalid_0's l2: 5.23384\n",
            "[47]\tvalid_0's l2: 5.10156\n",
            "[48]\tvalid_0's l2: 4.97993\n",
            "[49]\tvalid_0's l2: 4.90526\n",
            "[50]\tvalid_0's l2: 4.7954\n",
            "[51]\tvalid_0's l2: 4.75078\n",
            "[52]\tvalid_0's l2: 4.65177\n",
            "[53]\tvalid_0's l2: 4.61612\n",
            "[54]\tvalid_0's l2: 4.52248\n",
            "[55]\tvalid_0's l2: 4.49666\n",
            "[56]\tvalid_0's l2: 4.40605\n",
            "[57]\tvalid_0's l2: 4.34456\n",
            "[58]\tvalid_0's l2: 4.32631\n",
            "[59]\tvalid_0's l2: 4.24754\n",
            "[60]\tvalid_0's l2: 4.23657\n",
            "[61]\tvalid_0's l2: 4.17463\n",
            "[62]\tvalid_0's l2: 4.1152\n",
            "[63]\tvalid_0's l2: 4.11504\n",
            "[64]\tvalid_0's l2: 4.0614\n",
            "[65]\tvalid_0's l2: 4.01026\n",
            "[66]\tvalid_0's l2: 3.96855\n",
            "[67]\tvalid_0's l2: 3.92378\n",
            "[68]\tvalid_0's l2: 3.93156\n",
            "[69]\tvalid_0's l2: 3.88632\n",
            "[70]\tvalid_0's l2: 3.84764\n",
            "[71]\tvalid_0's l2: 3.80834\n",
            "[72]\tvalid_0's l2: 3.77566\n",
            "[73]\tvalid_0's l2: 3.79403\n",
            "[74]\tvalid_0's l2: 3.76438\n",
            "[75]\tvalid_0's l2: 3.72624\n",
            "[76]\tvalid_0's l2: 3.74698\n",
            "[77]\tvalid_0's l2: 3.72168\n",
            "[78]\tvalid_0's l2: 3.68457\n",
            "[79]\tvalid_0's l2: 3.66576\n",
            "[80]\tvalid_0's l2: 3.65142\n",
            "[81]\tvalid_0's l2: 3.6725\n",
            "[82]\tvalid_0's l2: 3.65869\n",
            "[83]\tvalid_0's l2: 3.64508\n",
            "[84]\tvalid_0's l2: 3.61747\n",
            "[85]\tvalid_0's l2: 3.60113\n",
            "[86]\tvalid_0's l2: 3.58923\n",
            "[87]\tvalid_0's l2: 3.56744\n",
            "[88]\tvalid_0's l2: 3.59691\n",
            "[89]\tvalid_0's l2: 3.59409\n",
            "[90]\tvalid_0's l2: 3.58905\n",
            "[91]\tvalid_0's l2: 3.56916\n",
            "[92]\tvalid_0's l2: 3.59875\n",
            "[93]\tvalid_0's l2: 3.5944\n",
            "[94]\tvalid_0's l2: 3.59519\n",
            "[95]\tvalid_0's l2: 3.61743\n",
            "[96]\tvalid_0's l2: 3.58725\n",
            "[97]\tvalid_0's l2: 3.58831\n",
            "[98]\tvalid_0's l2: 3.58185\n",
            "[99]\tvalid_0's l2: 3.60833\n",
            "[100]\tvalid_0's l2: 3.59136\n"
          ]
        },
        {
          "output_type": "execute_result",
          "data": {
            "text/plain": [
              "LGBMRegressor(learning_rate=0.03, objective='regression_l2', random_state=18)"
            ],
            "text/html": [
              "<style>#sk-container-id-1 {color: black;background-color: white;}#sk-container-id-1 pre{padding: 0;}#sk-container-id-1 div.sk-toggleable {background-color: white;}#sk-container-id-1 label.sk-toggleable__label {cursor: pointer;display: block;width: 100%;margin-bottom: 0;padding: 0.3em;box-sizing: border-box;text-align: center;}#sk-container-id-1 label.sk-toggleable__label-arrow:before {content: \"▸\";float: left;margin-right: 0.25em;color: #696969;}#sk-container-id-1 label.sk-toggleable__label-arrow:hover:before {color: black;}#sk-container-id-1 div.sk-estimator:hover label.sk-toggleable__label-arrow:before {color: black;}#sk-container-id-1 div.sk-toggleable__content {max-height: 0;max-width: 0;overflow: hidden;text-align: left;background-color: #f0f8ff;}#sk-container-id-1 div.sk-toggleable__content pre {margin: 0.2em;color: black;border-radius: 0.25em;background-color: #f0f8ff;}#sk-container-id-1 input.sk-toggleable__control:checked~div.sk-toggleable__content {max-height: 200px;max-width: 100%;overflow: auto;}#sk-container-id-1 input.sk-toggleable__control:checked~label.sk-toggleable__label-arrow:before {content: \"▾\";}#sk-container-id-1 div.sk-estimator input.sk-toggleable__control:checked~label.sk-toggleable__label {background-color: #d4ebff;}#sk-container-id-1 div.sk-label input.sk-toggleable__control:checked~label.sk-toggleable__label {background-color: #d4ebff;}#sk-container-id-1 input.sk-hidden--visually {border: 0;clip: rect(1px 1px 1px 1px);clip: rect(1px, 1px, 1px, 1px);height: 1px;margin: -1px;overflow: hidden;padding: 0;position: absolute;width: 1px;}#sk-container-id-1 div.sk-estimator {font-family: monospace;background-color: #f0f8ff;border: 1px dotted black;border-radius: 0.25em;box-sizing: border-box;margin-bottom: 0.5em;}#sk-container-id-1 div.sk-estimator:hover {background-color: #d4ebff;}#sk-container-id-1 div.sk-parallel-item::after {content: \"\";width: 100%;border-bottom: 1px solid gray;flex-grow: 1;}#sk-container-id-1 div.sk-label:hover label.sk-toggleable__label {background-color: #d4ebff;}#sk-container-id-1 div.sk-serial::before {content: \"\";position: absolute;border-left: 1px solid gray;box-sizing: border-box;top: 0;bottom: 0;left: 50%;z-index: 0;}#sk-container-id-1 div.sk-serial {display: flex;flex-direction: column;align-items: center;background-color: white;padding-right: 0.2em;padding-left: 0.2em;position: relative;}#sk-container-id-1 div.sk-item {position: relative;z-index: 1;}#sk-container-id-1 div.sk-parallel {display: flex;align-items: stretch;justify-content: center;background-color: white;position: relative;}#sk-container-id-1 div.sk-item::before, #sk-container-id-1 div.sk-parallel-item::before {content: \"\";position: absolute;border-left: 1px solid gray;box-sizing: border-box;top: 0;bottom: 0;left: 50%;z-index: -1;}#sk-container-id-1 div.sk-parallel-item {display: flex;flex-direction: column;z-index: 1;position: relative;background-color: white;}#sk-container-id-1 div.sk-parallel-item:first-child::after {align-self: flex-end;width: 50%;}#sk-container-id-1 div.sk-parallel-item:last-child::after {align-self: flex-start;width: 50%;}#sk-container-id-1 div.sk-parallel-item:only-child::after {width: 0;}#sk-container-id-1 div.sk-dashed-wrapped {border: 1px dashed gray;margin: 0 0.4em 0.5em 0.4em;box-sizing: border-box;padding-bottom: 0.4em;background-color: white;}#sk-container-id-1 div.sk-label label {font-family: monospace;font-weight: bold;display: inline-block;line-height: 1.2em;}#sk-container-id-1 div.sk-label-container {text-align: center;}#sk-container-id-1 div.sk-container {/* jupyter's `normalize.less` sets `[hidden] { display: none; }` but bootstrap.min.css set `[hidden] { display: none !important; }` so we also need the `!important` here to be able to override the default hidden behavior on the sphinx rendered scikit-learn.org. See: https://github.com/scikit-learn/scikit-learn/issues/21755 */display: inline-block !important;position: relative;}#sk-container-id-1 div.sk-text-repr-fallback {display: none;}</style><div id=\"sk-container-id-1\" class=\"sk-top-container\"><div class=\"sk-text-repr-fallback\"><pre>LGBMRegressor(learning_rate=0.03, objective=&#x27;regression_l2&#x27;, random_state=18)</pre><b>In a Jupyter environment, please rerun this cell to show the HTML representation or trust the notebook. <br />On GitHub, the HTML representation is unable to render, please try loading this page with nbviewer.org.</b></div><div class=\"sk-container\" hidden><div class=\"sk-item\"><div class=\"sk-estimator sk-toggleable\"><input class=\"sk-toggleable__control sk-hidden--visually\" id=\"sk-estimator-id-1\" type=\"checkbox\" checked><label for=\"sk-estimator-id-1\" class=\"sk-toggleable__label sk-toggleable__label-arrow\">LGBMRegressor</label><div class=\"sk-toggleable__content\"><pre>LGBMRegressor(learning_rate=0.03, objective=&#x27;regression_l2&#x27;, random_state=18)</pre></div></div></div></div></div>"
            ]
          },
          "metadata": {},
          "execution_count": 9
        }
      ]
    },
    {
      "cell_type": "code",
      "source": [
        "# checking results\n",
        "print('R2:', (r2_score(y_test, model.predict(X_test)) * 100).round(2))"
      ],
      "metadata": {
        "colab": {
          "base_uri": "https://localhost:8080/"
        },
        "id": "wBUaGpI5B2oL",
        "outputId": "a016e814-0ce4-4ad1-e044-6b4c1e3dccd9"
      },
      "execution_count": 10,
      "outputs": [
        {
          "output_type": "stream",
          "name": "stdout",
          "text": [
            "R2: 89.71\n"
          ]
        }
      ]
    }
  ]
}