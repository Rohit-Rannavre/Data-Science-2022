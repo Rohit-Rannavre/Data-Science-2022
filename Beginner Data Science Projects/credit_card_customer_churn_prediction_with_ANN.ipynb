{
  "nbformat": 4,
  "nbformat_minor": 0,
  "metadata": {
    "colab": {
      "provenance": []
    },
    "kernelspec": {
      "name": "python3",
      "display_name": "Python 3"
    },
    "language_info": {
      "name": "python"
    },
    "accelerator": "GPU",
    "gpuClass": "standard"
  },
  "cells": [
    {
      "cell_type": "code",
      "execution_count": 1,
      "metadata": {
        "id": "Xrz7t-V_fWkJ"
      },
      "outputs": [],
      "source": [
        "# imports\n",
        "import pandas as pd\n",
        "import numpy as np\n",
        "import matplotlib.pyplot as plt\n",
        "from sklearn.model_selection import train_test_split\n",
        "from sklearn.preprocessing import StandardScaler\n",
        "from imblearn.over_sampling import ADASYN\n",
        "from collections import Counter\n",
        "from tensorflow.keras import Sequential \n",
        "from tensorflow.keras.layers import Dense, Dropout\n",
        "from sklearn.metrics import accuracy_score, confusion_matrix, classification_report"
      ]
    },
    {
      "cell_type": "code",
      "source": [
        "# loading the dataset\n",
        "df = pd.read_csv('/content/credit_card_customer_churn_dataset.csv')\n",
        "df.head()"
      ],
      "metadata": {
        "colab": {
          "base_uri": "https://localhost:8080/",
          "height": 206
        },
        "id": "0_-Y8XQ0f_ax",
        "outputId": "d11e1ea5-2da9-4db3-e29b-8d168cd22e9b"
      },
      "execution_count": 2,
      "outputs": [
        {
          "output_type": "execute_result",
          "data": {
            "text/plain": [
              "   CreditScore Geography  Gender  Age  Tenure    Balance  NumOfProducts  \\\n",
              "0          619    France  Female   42       2       0.00              1   \n",
              "1          608     Spain  Female   41       1   83807.86              1   \n",
              "2          502    France  Female   42       8  159660.80              3   \n",
              "3          699    France  Female   39       1       0.00              2   \n",
              "4          850     Spain  Female   43       2  125510.82              1   \n",
              "\n",
              "   HasCrCard  IsActiveMember  EstimatedSalary  Exited  \n",
              "0          1               1        101348.88       1  \n",
              "1          0               1        112542.58       0  \n",
              "2          1               0        113931.57       1  \n",
              "3          0               0         93826.63       0  \n",
              "4          1               1         79084.10       0  "
            ],
            "text/html": [
              "\n",
              "  <div id=\"df-544b13cb-a1cb-47f5-b134-ecd06f0b0fad\">\n",
              "    <div class=\"colab-df-container\">\n",
              "      <div>\n",
              "<style scoped>\n",
              "    .dataframe tbody tr th:only-of-type {\n",
              "        vertical-align: middle;\n",
              "    }\n",
              "\n",
              "    .dataframe tbody tr th {\n",
              "        vertical-align: top;\n",
              "    }\n",
              "\n",
              "    .dataframe thead th {\n",
              "        text-align: right;\n",
              "    }\n",
              "</style>\n",
              "<table border=\"1\" class=\"dataframe\">\n",
              "  <thead>\n",
              "    <tr style=\"text-align: right;\">\n",
              "      <th></th>\n",
              "      <th>CreditScore</th>\n",
              "      <th>Geography</th>\n",
              "      <th>Gender</th>\n",
              "      <th>Age</th>\n",
              "      <th>Tenure</th>\n",
              "      <th>Balance</th>\n",
              "      <th>NumOfProducts</th>\n",
              "      <th>HasCrCard</th>\n",
              "      <th>IsActiveMember</th>\n",
              "      <th>EstimatedSalary</th>\n",
              "      <th>Exited</th>\n",
              "    </tr>\n",
              "  </thead>\n",
              "  <tbody>\n",
              "    <tr>\n",
              "      <th>0</th>\n",
              "      <td>619</td>\n",
              "      <td>France</td>\n",
              "      <td>Female</td>\n",
              "      <td>42</td>\n",
              "      <td>2</td>\n",
              "      <td>0.00</td>\n",
              "      <td>1</td>\n",
              "      <td>1</td>\n",
              "      <td>1</td>\n",
              "      <td>101348.88</td>\n",
              "      <td>1</td>\n",
              "    </tr>\n",
              "    <tr>\n",
              "      <th>1</th>\n",
              "      <td>608</td>\n",
              "      <td>Spain</td>\n",
              "      <td>Female</td>\n",
              "      <td>41</td>\n",
              "      <td>1</td>\n",
              "      <td>83807.86</td>\n",
              "      <td>1</td>\n",
              "      <td>0</td>\n",
              "      <td>1</td>\n",
              "      <td>112542.58</td>\n",
              "      <td>0</td>\n",
              "    </tr>\n",
              "    <tr>\n",
              "      <th>2</th>\n",
              "      <td>502</td>\n",
              "      <td>France</td>\n",
              "      <td>Female</td>\n",
              "      <td>42</td>\n",
              "      <td>8</td>\n",
              "      <td>159660.80</td>\n",
              "      <td>3</td>\n",
              "      <td>1</td>\n",
              "      <td>0</td>\n",
              "      <td>113931.57</td>\n",
              "      <td>1</td>\n",
              "    </tr>\n",
              "    <tr>\n",
              "      <th>3</th>\n",
              "      <td>699</td>\n",
              "      <td>France</td>\n",
              "      <td>Female</td>\n",
              "      <td>39</td>\n",
              "      <td>1</td>\n",
              "      <td>0.00</td>\n",
              "      <td>2</td>\n",
              "      <td>0</td>\n",
              "      <td>0</td>\n",
              "      <td>93826.63</td>\n",
              "      <td>0</td>\n",
              "    </tr>\n",
              "    <tr>\n",
              "      <th>4</th>\n",
              "      <td>850</td>\n",
              "      <td>Spain</td>\n",
              "      <td>Female</td>\n",
              "      <td>43</td>\n",
              "      <td>2</td>\n",
              "      <td>125510.82</td>\n",
              "      <td>1</td>\n",
              "      <td>1</td>\n",
              "      <td>1</td>\n",
              "      <td>79084.10</td>\n",
              "      <td>0</td>\n",
              "    </tr>\n",
              "  </tbody>\n",
              "</table>\n",
              "</div>\n",
              "      <button class=\"colab-df-convert\" onclick=\"convertToInteractive('df-544b13cb-a1cb-47f5-b134-ecd06f0b0fad')\"\n",
              "              title=\"Convert this dataframe to an interactive table.\"\n",
              "              style=\"display:none;\">\n",
              "        \n",
              "  <svg xmlns=\"http://www.w3.org/2000/svg\" height=\"24px\"viewBox=\"0 0 24 24\"\n",
              "       width=\"24px\">\n",
              "    <path d=\"M0 0h24v24H0V0z\" fill=\"none\"/>\n",
              "    <path d=\"M18.56 5.44l.94 2.06.94-2.06 2.06-.94-2.06-.94-.94-2.06-.94 2.06-2.06.94zm-11 1L8.5 8.5l.94-2.06 2.06-.94-2.06-.94L8.5 2.5l-.94 2.06-2.06.94zm10 10l.94 2.06.94-2.06 2.06-.94-2.06-.94-.94-2.06-.94 2.06-2.06.94z\"/><path d=\"M17.41 7.96l-1.37-1.37c-.4-.4-.92-.59-1.43-.59-.52 0-1.04.2-1.43.59L10.3 9.45l-7.72 7.72c-.78.78-.78 2.05 0 2.83L4 21.41c.39.39.9.59 1.41.59.51 0 1.02-.2 1.41-.59l7.78-7.78 2.81-2.81c.8-.78.8-2.07 0-2.86zM5.41 20L4 18.59l7.72-7.72 1.47 1.35L5.41 20z\"/>\n",
              "  </svg>\n",
              "      </button>\n",
              "      \n",
              "  <style>\n",
              "    .colab-df-container {\n",
              "      display:flex;\n",
              "      flex-wrap:wrap;\n",
              "      gap: 12px;\n",
              "    }\n",
              "\n",
              "    .colab-df-convert {\n",
              "      background-color: #E8F0FE;\n",
              "      border: none;\n",
              "      border-radius: 50%;\n",
              "      cursor: pointer;\n",
              "      display: none;\n",
              "      fill: #1967D2;\n",
              "      height: 32px;\n",
              "      padding: 0 0 0 0;\n",
              "      width: 32px;\n",
              "    }\n",
              "\n",
              "    .colab-df-convert:hover {\n",
              "      background-color: #E2EBFA;\n",
              "      box-shadow: 0px 1px 2px rgba(60, 64, 67, 0.3), 0px 1px 3px 1px rgba(60, 64, 67, 0.15);\n",
              "      fill: #174EA6;\n",
              "    }\n",
              "\n",
              "    [theme=dark] .colab-df-convert {\n",
              "      background-color: #3B4455;\n",
              "      fill: #D2E3FC;\n",
              "    }\n",
              "\n",
              "    [theme=dark] .colab-df-convert:hover {\n",
              "      background-color: #434B5C;\n",
              "      box-shadow: 0px 1px 3px 1px rgba(0, 0, 0, 0.15);\n",
              "      filter: drop-shadow(0px 1px 2px rgba(0, 0, 0, 0.3));\n",
              "      fill: #FFFFFF;\n",
              "    }\n",
              "  </style>\n",
              "\n",
              "      <script>\n",
              "        const buttonEl =\n",
              "          document.querySelector('#df-544b13cb-a1cb-47f5-b134-ecd06f0b0fad button.colab-df-convert');\n",
              "        buttonEl.style.display =\n",
              "          google.colab.kernel.accessAllowed ? 'block' : 'none';\n",
              "\n",
              "        async function convertToInteractive(key) {\n",
              "          const element = document.querySelector('#df-544b13cb-a1cb-47f5-b134-ecd06f0b0fad');\n",
              "          const dataTable =\n",
              "            await google.colab.kernel.invokeFunction('convertToInteractive',\n",
              "                                                     [key], {});\n",
              "          if (!dataTable) return;\n",
              "\n",
              "          const docLinkHtml = 'Like what you see? Visit the ' +\n",
              "            '<a target=\"_blank\" href=https://colab.research.google.com/notebooks/data_table.ipynb>data table notebook</a>'\n",
              "            + ' to learn more about interactive tables.';\n",
              "          element.innerHTML = '';\n",
              "          dataTable['output_type'] = 'display_data';\n",
              "          await google.colab.output.renderOutput(dataTable, element);\n",
              "          const docLink = document.createElement('div');\n",
              "          docLink.innerHTML = docLinkHtml;\n",
              "          element.appendChild(docLink);\n",
              "        }\n",
              "      </script>\n",
              "    </div>\n",
              "  </div>\n",
              "  "
            ]
          },
          "metadata": {},
          "execution_count": 2
        }
      ]
    },
    {
      "cell_type": "code",
      "source": [
        "# getting the info. of dataset\n",
        "df.info()"
      ],
      "metadata": {
        "colab": {
          "base_uri": "https://localhost:8080/"
        },
        "id": "0LMYLzBZgEix",
        "outputId": "6535c528-618b-4067-bd11-deb017fc3218"
      },
      "execution_count": 3,
      "outputs": [
        {
          "output_type": "stream",
          "name": "stdout",
          "text": [
            "<class 'pandas.core.frame.DataFrame'>\n",
            "RangeIndex: 10000 entries, 0 to 9999\n",
            "Data columns (total 11 columns):\n",
            " #   Column           Non-Null Count  Dtype  \n",
            "---  ------           --------------  -----  \n",
            " 0   CreditScore      10000 non-null  int64  \n",
            " 1   Geography        10000 non-null  object \n",
            " 2   Gender           10000 non-null  object \n",
            " 3   Age              10000 non-null  int64  \n",
            " 4   Tenure           10000 non-null  int64  \n",
            " 5   Balance          10000 non-null  float64\n",
            " 6   NumOfProducts    10000 non-null  int64  \n",
            " 7   HasCrCard        10000 non-null  int64  \n",
            " 8   IsActiveMember   10000 non-null  int64  \n",
            " 9   EstimatedSalary  10000 non-null  float64\n",
            " 10  Exited           10000 non-null  int64  \n",
            "dtypes: float64(2), int64(7), object(2)\n",
            "memory usage: 859.5+ KB\n"
          ]
        }
      ]
    },
    {
      "cell_type": "code",
      "source": [
        "# checking duplicates\n",
        "df.duplicated().sum()"
      ],
      "metadata": {
        "colab": {
          "base_uri": "https://localhost:8080/"
        },
        "id": "BtpumBmNgKWf",
        "outputId": "1d0fab8d-e59d-45ab-c29b-e7d67c2dd2a3"
      },
      "execution_count": 4,
      "outputs": [
        {
          "output_type": "execute_result",
          "data": {
            "text/plain": [
              "0"
            ]
          },
          "metadata": {},
          "execution_count": 4
        }
      ]
    },
    {
      "cell_type": "code",
      "source": [
        "# encoding the categorical features\n",
        "df = pd.get_dummies(data=df, columns=['Geography', 'Gender'], drop_first=True)"
      ],
      "metadata": {
        "id": "qozFOYvRgXFP"
      },
      "execution_count": 5,
      "outputs": []
    },
    {
      "cell_type": "code",
      "source": [
        "# getting the value count of target; data is imbalanced\n",
        "df['Exited'].value_counts()"
      ],
      "metadata": {
        "colab": {
          "base_uri": "https://localhost:8080/"
        },
        "id": "sMyIYYCMhSiu",
        "outputId": "4c6906ad-a38d-4d97-dc3c-527f48cfb3cc"
      },
      "execution_count": 6,
      "outputs": [
        {
          "output_type": "execute_result",
          "data": {
            "text/plain": [
              "0    7963\n",
              "1    2037\n",
              "Name: Exited, dtype: int64"
            ]
          },
          "metadata": {},
          "execution_count": 6
        }
      ]
    },
    {
      "cell_type": "code",
      "source": [
        "# creating X & y\n",
        "X = df.drop(['Exited'], axis=1)\n",
        "y = df['Exited']"
      ],
      "metadata": {
        "id": "uQFwGMMuhWjR"
      },
      "execution_count": 7,
      "outputs": []
    },
    {
      "cell_type": "code",
      "source": [
        "# splitting the data into training & testing sets\n",
        "X_train, X_test, y_train, y_test = train_test_split(X, y, test_size=0.2, random_state=20)"
      ],
      "metadata": {
        "id": "agZjD-CmiFWB"
      },
      "execution_count": 8,
      "outputs": []
    },
    {
      "cell_type": "code",
      "source": [
        "# handling the imbalance\n",
        "adas = ADASYN()\n",
        "X_train, y_train = adas.fit_resample(X_train, y_train)"
      ],
      "metadata": {
        "id": "HEKuTpyXoLJ6"
      },
      "execution_count": 9,
      "outputs": []
    },
    {
      "cell_type": "code",
      "source": [
        "# scaling the data\n",
        "scaler = StandardScaler()\n",
        "X_train = scaler.fit_transform(X_train)\n",
        "X_test = scaler.transform(X_test)"
      ],
      "metadata": {
        "id": "KQtAH9xYibDN"
      },
      "execution_count": 10,
      "outputs": []
    },
    {
      "cell_type": "code",
      "source": [
        "# defining an ANN architecture; shape (10000, 11)\n",
        "model = Sequential()\n",
        "model.add(Dense(11, activation='relu', input_dim=11))\n",
        "model.add(Dropout(rate=.2))\n",
        "model.add(Dense(11, activation='relu'))\n",
        "model.add(Dense(1, activation='sigmoid'))"
      ],
      "metadata": {
        "id": "vIFUnNAYi0jG"
      },
      "execution_count": 11,
      "outputs": []
    },
    {
      "cell_type": "code",
      "source": [
        "# getting an overall summary of the architecture\n",
        "model.summary()"
      ],
      "metadata": {
        "colab": {
          "base_uri": "https://localhost:8080/"
        },
        "id": "2vzMe8sVjgxT",
        "outputId": "d1e51c4a-1755-47ce-d27f-be28ee585161"
      },
      "execution_count": 12,
      "outputs": [
        {
          "output_type": "stream",
          "name": "stdout",
          "text": [
            "Model: \"sequential\"\n",
            "_________________________________________________________________\n",
            " Layer (type)                Output Shape              Param #   \n",
            "=================================================================\n",
            " dense (Dense)               (None, 11)                132       \n",
            "                                                                 \n",
            " dropout (Dropout)           (None, 11)                0         \n",
            "                                                                 \n",
            " dense_1 (Dense)             (None, 11)                132       \n",
            "                                                                 \n",
            " dense_2 (Dense)             (None, 1)                 12        \n",
            "                                                                 \n",
            "=================================================================\n",
            "Total params: 276\n",
            "Trainable params: 276\n",
            "Non-trainable params: 0\n",
            "_________________________________________________________________\n"
          ]
        }
      ]
    },
    {
      "cell_type": "code",
      "source": [
        "# compilation\n",
        "model.compile(loss='binary_crossentropy', optimizer='Adam', metrics=['accuracy'])"
      ],
      "metadata": {
        "id": "YfuUiNXYjlZB"
      },
      "execution_count": 13,
      "outputs": []
    },
    {
      "cell_type": "code",
      "source": [
        "# training\n",
        "history = model.fit(X_train, y_train, batch_size=50, epochs=100, validation_split=0.2, verbose=1)"
      ],
      "metadata": {
        "colab": {
          "base_uri": "https://localhost:8080/"
        },
        "id": "FZ8q3zTzjzmd",
        "outputId": "2484866e-60b6-46ea-931f-69a0f7e507bc"
      },
      "execution_count": 14,
      "outputs": [
        {
          "output_type": "stream",
          "name": "stdout",
          "text": [
            "Epoch 1/100\n",
            "206/206 [==============================] - 3s 6ms/step - loss: 0.6443 - accuracy: 0.6142 - val_loss: 0.7742 - val_accuracy: 0.4237\n",
            "Epoch 2/100\n",
            "206/206 [==============================] - 2s 9ms/step - loss: 0.5536 - accuracy: 0.7083 - val_loss: 0.6073 - val_accuracy: 0.6851\n",
            "Epoch 3/100\n",
            "206/206 [==============================] - 2s 9ms/step - loss: 0.5221 - accuracy: 0.7443 - val_loss: 0.5397 - val_accuracy: 0.7807\n",
            "Epoch 4/100\n",
            "206/206 [==============================] - 2s 8ms/step - loss: 0.5046 - accuracy: 0.7607 - val_loss: 0.4876 - val_accuracy: 0.8201\n",
            "Epoch 5/100\n",
            "206/206 [==============================] - 2s 7ms/step - loss: 0.4904 - accuracy: 0.7633 - val_loss: 0.4540 - val_accuracy: 0.8279\n",
            "Epoch 6/100\n",
            "206/206 [==============================] - 2s 8ms/step - loss: 0.4794 - accuracy: 0.7781 - val_loss: 0.4221 - val_accuracy: 0.8369\n",
            "Epoch 7/100\n",
            "206/206 [==============================] - 1s 7ms/step - loss: 0.4725 - accuracy: 0.7761 - val_loss: 0.4088 - val_accuracy: 0.8365\n",
            "Epoch 8/100\n",
            "206/206 [==============================] - 2s 7ms/step - loss: 0.4664 - accuracy: 0.7825 - val_loss: 0.4135 - val_accuracy: 0.8283\n",
            "Epoch 9/100\n",
            "206/206 [==============================] - 2s 11ms/step - loss: 0.4655 - accuracy: 0.7784 - val_loss: 0.4161 - val_accuracy: 0.8283\n",
            "Epoch 10/100\n",
            "206/206 [==============================] - 2s 9ms/step - loss: 0.4624 - accuracy: 0.7793 - val_loss: 0.4047 - val_accuracy: 0.8346\n",
            "Epoch 11/100\n",
            "206/206 [==============================] - 1s 7ms/step - loss: 0.4571 - accuracy: 0.7857 - val_loss: 0.4187 - val_accuracy: 0.8291\n",
            "Epoch 12/100\n",
            "206/206 [==============================] - 2s 8ms/step - loss: 0.4566 - accuracy: 0.7840 - val_loss: 0.4273 - val_accuracy: 0.8190\n",
            "Epoch 13/100\n",
            "206/206 [==============================] - 2s 8ms/step - loss: 0.4491 - accuracy: 0.7866 - val_loss: 0.4073 - val_accuracy: 0.8256\n",
            "Epoch 14/100\n",
            "206/206 [==============================] - 1s 4ms/step - loss: 0.4453 - accuracy: 0.7892 - val_loss: 0.3954 - val_accuracy: 0.8307\n",
            "Epoch 15/100\n",
            "206/206 [==============================] - 1s 4ms/step - loss: 0.4451 - accuracy: 0.7902 - val_loss: 0.4054 - val_accuracy: 0.8201\n",
            "Epoch 16/100\n",
            "206/206 [==============================] - 1s 4ms/step - loss: 0.4410 - accuracy: 0.7950 - val_loss: 0.4091 - val_accuracy: 0.8147\n",
            "Epoch 17/100\n",
            "206/206 [==============================] - 1s 4ms/step - loss: 0.4377 - accuracy: 0.7934 - val_loss: 0.4063 - val_accuracy: 0.8162\n",
            "Epoch 18/100\n",
            "206/206 [==============================] - 1s 4ms/step - loss: 0.4350 - accuracy: 0.7966 - val_loss: 0.3813 - val_accuracy: 0.8318\n",
            "Epoch 19/100\n",
            "206/206 [==============================] - 1s 5ms/step - loss: 0.4300 - accuracy: 0.7991 - val_loss: 0.3971 - val_accuracy: 0.8197\n",
            "Epoch 20/100\n",
            "206/206 [==============================] - 1s 5ms/step - loss: 0.4346 - accuracy: 0.7981 - val_loss: 0.3903 - val_accuracy: 0.8240\n",
            "Epoch 21/100\n",
            "206/206 [==============================] - 1s 5ms/step - loss: 0.4288 - accuracy: 0.7979 - val_loss: 0.4146 - val_accuracy: 0.8096\n",
            "Epoch 22/100\n",
            "206/206 [==============================] - 1s 4ms/step - loss: 0.4287 - accuracy: 0.7983 - val_loss: 0.4159 - val_accuracy: 0.8104\n",
            "Epoch 23/100\n",
            "206/206 [==============================] - 1s 4ms/step - loss: 0.4272 - accuracy: 0.8010 - val_loss: 0.4364 - val_accuracy: 0.7940\n",
            "Epoch 24/100\n",
            "206/206 [==============================] - 1s 4ms/step - loss: 0.4264 - accuracy: 0.7988 - val_loss: 0.4116 - val_accuracy: 0.8088\n",
            "Epoch 25/100\n",
            "206/206 [==============================] - 1s 4ms/step - loss: 0.4278 - accuracy: 0.7988 - val_loss: 0.4328 - val_accuracy: 0.7956\n",
            "Epoch 26/100\n",
            "206/206 [==============================] - 1s 4ms/step - loss: 0.4238 - accuracy: 0.8047 - val_loss: 0.4242 - val_accuracy: 0.8030\n",
            "Epoch 27/100\n",
            "206/206 [==============================] - 1s 4ms/step - loss: 0.4216 - accuracy: 0.8055 - val_loss: 0.4177 - val_accuracy: 0.8045\n",
            "Epoch 28/100\n",
            "206/206 [==============================] - 1s 4ms/step - loss: 0.4227 - accuracy: 0.8058 - val_loss: 0.4543 - val_accuracy: 0.7796\n",
            "Epoch 29/100\n",
            "206/206 [==============================] - 1s 4ms/step - loss: 0.4222 - accuracy: 0.8048 - val_loss: 0.4378 - val_accuracy: 0.7881\n",
            "Epoch 30/100\n",
            "206/206 [==============================] - 1s 4ms/step - loss: 0.4167 - accuracy: 0.8034 - val_loss: 0.4414 - val_accuracy: 0.7835\n",
            "Epoch 31/100\n",
            "206/206 [==============================] - 1s 6ms/step - loss: 0.4169 - accuracy: 0.8077 - val_loss: 0.4617 - val_accuracy: 0.7702\n",
            "Epoch 32/100\n",
            "206/206 [==============================] - 1s 7ms/step - loss: 0.4191 - accuracy: 0.8064 - val_loss: 0.4588 - val_accuracy: 0.7768\n",
            "Epoch 33/100\n",
            "206/206 [==============================] - 1s 6ms/step - loss: 0.4171 - accuracy: 0.8075 - val_loss: 0.4586 - val_accuracy: 0.7796\n",
            "Epoch 34/100\n",
            "206/206 [==============================] - 1s 4ms/step - loss: 0.4149 - accuracy: 0.8100 - val_loss: 0.4593 - val_accuracy: 0.7768\n",
            "Epoch 35/100\n",
            "206/206 [==============================] - 1s 4ms/step - loss: 0.4150 - accuracy: 0.8101 - val_loss: 0.4541 - val_accuracy: 0.7796\n",
            "Epoch 36/100\n",
            "206/206 [==============================] - 1s 4ms/step - loss: 0.4126 - accuracy: 0.8093 - val_loss: 0.4245 - val_accuracy: 0.7963\n",
            "Epoch 37/100\n",
            "206/206 [==============================] - 1s 4ms/step - loss: 0.4119 - accuracy: 0.8130 - val_loss: 0.4426 - val_accuracy: 0.7854\n",
            "Epoch 38/100\n",
            "206/206 [==============================] - 1s 4ms/step - loss: 0.4132 - accuracy: 0.8122 - val_loss: 0.4416 - val_accuracy: 0.7858\n",
            "Epoch 39/100\n",
            "206/206 [==============================] - 1s 4ms/step - loss: 0.4143 - accuracy: 0.8097 - val_loss: 0.4423 - val_accuracy: 0.7858\n",
            "Epoch 40/100\n",
            "206/206 [==============================] - 1s 4ms/step - loss: 0.4130 - accuracy: 0.8114 - val_loss: 0.4434 - val_accuracy: 0.7799\n",
            "Epoch 41/100\n",
            "206/206 [==============================] - 1s 4ms/step - loss: 0.4151 - accuracy: 0.8095 - val_loss: 0.4348 - val_accuracy: 0.7823\n",
            "Epoch 42/100\n",
            "206/206 [==============================] - 1s 4ms/step - loss: 0.4128 - accuracy: 0.8104 - val_loss: 0.4524 - val_accuracy: 0.7749\n",
            "Epoch 43/100\n",
            "206/206 [==============================] - 1s 4ms/step - loss: 0.4088 - accuracy: 0.8169 - val_loss: 0.4457 - val_accuracy: 0.7757\n",
            "Epoch 44/100\n",
            "206/206 [==============================] - 1s 4ms/step - loss: 0.4088 - accuracy: 0.8124 - val_loss: 0.4160 - val_accuracy: 0.7959\n",
            "Epoch 45/100\n",
            "206/206 [==============================] - 1s 4ms/step - loss: 0.4157 - accuracy: 0.8092 - val_loss: 0.4493 - val_accuracy: 0.7714\n",
            "Epoch 46/100\n",
            "206/206 [==============================] - 1s 6ms/step - loss: 0.4091 - accuracy: 0.8138 - val_loss: 0.4533 - val_accuracy: 0.7745\n",
            "Epoch 47/100\n",
            "206/206 [==============================] - 1s 5ms/step - loss: 0.4080 - accuracy: 0.8151 - val_loss: 0.4464 - val_accuracy: 0.7799\n",
            "Epoch 48/100\n",
            "206/206 [==============================] - 1s 4ms/step - loss: 0.4096 - accuracy: 0.8144 - val_loss: 0.4485 - val_accuracy: 0.7772\n",
            "Epoch 49/100\n",
            "206/206 [==============================] - 1s 4ms/step - loss: 0.4087 - accuracy: 0.8116 - val_loss: 0.4408 - val_accuracy: 0.7811\n",
            "Epoch 50/100\n",
            "206/206 [==============================] - 1s 4ms/step - loss: 0.4096 - accuracy: 0.8116 - val_loss: 0.4451 - val_accuracy: 0.7799\n",
            "Epoch 51/100\n",
            "206/206 [==============================] - 1s 4ms/step - loss: 0.4097 - accuracy: 0.8139 - val_loss: 0.4184 - val_accuracy: 0.7983\n",
            "Epoch 52/100\n",
            "206/206 [==============================] - 1s 4ms/step - loss: 0.4049 - accuracy: 0.8165 - val_loss: 0.4377 - val_accuracy: 0.7823\n",
            "Epoch 53/100\n",
            "206/206 [==============================] - 1s 4ms/step - loss: 0.4085 - accuracy: 0.8139 - val_loss: 0.4662 - val_accuracy: 0.7647\n",
            "Epoch 54/100\n",
            "206/206 [==============================] - 1s 4ms/step - loss: 0.4090 - accuracy: 0.8148 - val_loss: 0.4608 - val_accuracy: 0.7714\n",
            "Epoch 55/100\n",
            "206/206 [==============================] - 1s 4ms/step - loss: 0.4114 - accuracy: 0.8102 - val_loss: 0.4535 - val_accuracy: 0.7753\n",
            "Epoch 56/100\n",
            "206/206 [==============================] - 1s 4ms/step - loss: 0.4050 - accuracy: 0.8181 - val_loss: 0.4657 - val_accuracy: 0.7667\n",
            "Epoch 57/100\n",
            "206/206 [==============================] - 1s 4ms/step - loss: 0.4053 - accuracy: 0.8146 - val_loss: 0.4696 - val_accuracy: 0.7714\n",
            "Epoch 58/100\n",
            "206/206 [==============================] - 1s 5ms/step - loss: 0.4054 - accuracy: 0.8170 - val_loss: 0.4675 - val_accuracy: 0.7733\n",
            "Epoch 59/100\n",
            "206/206 [==============================] - 1s 6ms/step - loss: 0.4078 - accuracy: 0.8178 - val_loss: 0.4598 - val_accuracy: 0.7745\n",
            "Epoch 60/100\n",
            "206/206 [==============================] - 1s 4ms/step - loss: 0.4039 - accuracy: 0.8195 - val_loss: 0.4305 - val_accuracy: 0.7956\n",
            "Epoch 61/100\n",
            "206/206 [==============================] - 1s 4ms/step - loss: 0.4074 - accuracy: 0.8162 - val_loss: 0.4444 - val_accuracy: 0.7838\n",
            "Epoch 62/100\n",
            "206/206 [==============================] - 1s 4ms/step - loss: 0.4058 - accuracy: 0.8165 - val_loss: 0.4734 - val_accuracy: 0.7718\n",
            "Epoch 63/100\n",
            "206/206 [==============================] - 1s 4ms/step - loss: 0.4074 - accuracy: 0.8152 - val_loss: 0.4617 - val_accuracy: 0.7768\n",
            "Epoch 64/100\n",
            "206/206 [==============================] - 1s 4ms/step - loss: 0.4053 - accuracy: 0.8155 - val_loss: 0.4465 - val_accuracy: 0.7858\n",
            "Epoch 65/100\n",
            "206/206 [==============================] - 1s 4ms/step - loss: 0.4041 - accuracy: 0.8193 - val_loss: 0.4560 - val_accuracy: 0.7764\n",
            "Epoch 66/100\n",
            "206/206 [==============================] - 1s 4ms/step - loss: 0.4054 - accuracy: 0.8176 - val_loss: 0.4573 - val_accuracy: 0.7698\n",
            "Epoch 67/100\n",
            "206/206 [==============================] - 1s 4ms/step - loss: 0.4047 - accuracy: 0.8155 - val_loss: 0.4637 - val_accuracy: 0.7698\n",
            "Epoch 68/100\n",
            "206/206 [==============================] - 1s 4ms/step - loss: 0.4023 - accuracy: 0.8169 - val_loss: 0.4434 - val_accuracy: 0.7807\n",
            "Epoch 69/100\n",
            "206/206 [==============================] - 1s 4ms/step - loss: 0.4015 - accuracy: 0.8184 - val_loss: 0.4554 - val_accuracy: 0.7780\n",
            "Epoch 70/100\n",
            "206/206 [==============================] - 1s 4ms/step - loss: 0.4034 - accuracy: 0.8153 - val_loss: 0.4422 - val_accuracy: 0.7842\n",
            "Epoch 71/100\n",
            "206/206 [==============================] - 1s 4ms/step - loss: 0.4048 - accuracy: 0.8157 - val_loss: 0.4432 - val_accuracy: 0.7877\n",
            "Epoch 72/100\n",
            "206/206 [==============================] - 1s 6ms/step - loss: 0.4002 - accuracy: 0.8207 - val_loss: 0.4613 - val_accuracy: 0.7718\n",
            "Epoch 73/100\n",
            "206/206 [==============================] - 1s 6ms/step - loss: 0.4034 - accuracy: 0.8186 - val_loss: 0.4674 - val_accuracy: 0.7659\n",
            "Epoch 74/100\n",
            "206/206 [==============================] - 1s 4ms/step - loss: 0.4051 - accuracy: 0.8172 - val_loss: 0.4645 - val_accuracy: 0.7721\n",
            "Epoch 75/100\n",
            "206/206 [==============================] - 1s 7ms/step - loss: 0.4023 - accuracy: 0.8184 - val_loss: 0.4519 - val_accuracy: 0.7737\n",
            "Epoch 76/100\n",
            "206/206 [==============================] - 1s 5ms/step - loss: 0.4011 - accuracy: 0.8167 - val_loss: 0.4465 - val_accuracy: 0.7838\n",
            "Epoch 77/100\n",
            "206/206 [==============================] - 1s 4ms/step - loss: 0.4043 - accuracy: 0.8185 - val_loss: 0.4557 - val_accuracy: 0.7799\n",
            "Epoch 78/100\n",
            "206/206 [==============================] - 1s 4ms/step - loss: 0.4053 - accuracy: 0.8180 - val_loss: 0.4619 - val_accuracy: 0.7776\n",
            "Epoch 79/100\n",
            "206/206 [==============================] - 1s 4ms/step - loss: 0.3984 - accuracy: 0.8213 - val_loss: 0.4195 - val_accuracy: 0.7952\n",
            "Epoch 80/100\n",
            "206/206 [==============================] - 1s 4ms/step - loss: 0.4014 - accuracy: 0.8192 - val_loss: 0.4453 - val_accuracy: 0.7823\n",
            "Epoch 81/100\n",
            "206/206 [==============================] - 1s 4ms/step - loss: 0.3987 - accuracy: 0.8197 - val_loss: 0.4668 - val_accuracy: 0.7737\n",
            "Epoch 82/100\n",
            "206/206 [==============================] - 1s 4ms/step - loss: 0.3996 - accuracy: 0.8193 - val_loss: 0.4513 - val_accuracy: 0.7858\n",
            "Epoch 83/100\n",
            "206/206 [==============================] - 1s 4ms/step - loss: 0.4012 - accuracy: 0.8211 - val_loss: 0.4656 - val_accuracy: 0.7741\n",
            "Epoch 84/100\n",
            "206/206 [==============================] - 1s 5ms/step - loss: 0.4021 - accuracy: 0.8178 - val_loss: 0.4512 - val_accuracy: 0.7827\n",
            "Epoch 85/100\n",
            "206/206 [==============================] - 1s 6ms/step - loss: 0.4022 - accuracy: 0.8188 - val_loss: 0.4582 - val_accuracy: 0.7819\n",
            "Epoch 86/100\n",
            "206/206 [==============================] - 1s 5ms/step - loss: 0.4010 - accuracy: 0.8196 - val_loss: 0.4577 - val_accuracy: 0.7760\n",
            "Epoch 87/100\n",
            "206/206 [==============================] - 1s 4ms/step - loss: 0.4005 - accuracy: 0.8189 - val_loss: 0.4635 - val_accuracy: 0.7741\n",
            "Epoch 88/100\n",
            "206/206 [==============================] - 1s 4ms/step - loss: 0.3999 - accuracy: 0.8189 - val_loss: 0.4635 - val_accuracy: 0.7768\n",
            "Epoch 89/100\n",
            "206/206 [==============================] - 1s 4ms/step - loss: 0.4015 - accuracy: 0.8175 - val_loss: 0.4709 - val_accuracy: 0.7706\n",
            "Epoch 90/100\n",
            "206/206 [==============================] - 1s 4ms/step - loss: 0.4007 - accuracy: 0.8163 - val_loss: 0.4439 - val_accuracy: 0.7940\n",
            "Epoch 91/100\n",
            "206/206 [==============================] - 1s 4ms/step - loss: 0.4018 - accuracy: 0.8175 - val_loss: 0.4591 - val_accuracy: 0.7757\n",
            "Epoch 92/100\n",
            "206/206 [==============================] - 1s 4ms/step - loss: 0.3998 - accuracy: 0.8190 - val_loss: 0.4598 - val_accuracy: 0.7764\n",
            "Epoch 93/100\n",
            "206/206 [==============================] - 1s 4ms/step - loss: 0.3989 - accuracy: 0.8215 - val_loss: 0.4605 - val_accuracy: 0.7796\n",
            "Epoch 94/100\n",
            "206/206 [==============================] - 1s 4ms/step - loss: 0.4010 - accuracy: 0.8181 - val_loss: 0.4488 - val_accuracy: 0.7924\n",
            "Epoch 95/100\n",
            "206/206 [==============================] - 1s 4ms/step - loss: 0.3977 - accuracy: 0.8215 - val_loss: 0.4993 - val_accuracy: 0.7542\n",
            "Epoch 96/100\n",
            "206/206 [==============================] - 1s 4ms/step - loss: 0.4003 - accuracy: 0.8200 - val_loss: 0.4759 - val_accuracy: 0.7682\n",
            "Epoch 97/100\n",
            "206/206 [==============================] - 1s 4ms/step - loss: 0.4009 - accuracy: 0.8179 - val_loss: 0.4956 - val_accuracy: 0.7585\n",
            "Epoch 98/100\n",
            "206/206 [==============================] - 1s 6ms/step - loss: 0.3986 - accuracy: 0.8188 - val_loss: 0.4690 - val_accuracy: 0.7745\n",
            "Epoch 99/100\n",
            "206/206 [==============================] - 1s 6ms/step - loss: 0.4003 - accuracy: 0.8198 - val_loss: 0.4525 - val_accuracy: 0.7862\n",
            "Epoch 100/100\n",
            "206/206 [==============================] - 1s 4ms/step - loss: 0.4000 - accuracy: 0.8173 - val_loss: 0.4604 - val_accuracy: 0.7881\n"
          ]
        }
      ]
    },
    {
      "cell_type": "code",
      "source": [
        "# checking the accuracy\n",
        "y_log = model.predict(X_test)\n",
        "y_pred = np.where(y_log > 0.5, 1, 0)\n",
        "print('Accuracy: ', accuracy_score(y_test, y_pred) * 100)"
      ],
      "metadata": {
        "colab": {
          "base_uri": "https://localhost:8080/"
        },
        "id": "srPdC_8fj98G",
        "outputId": "48005815-4e4e-4749-e9fb-3f605f4014b6"
      },
      "execution_count": 15,
      "outputs": [
        {
          "output_type": "stream",
          "name": "stdout",
          "text": [
            "63/63 [==============================] - 0s 2ms/step\n",
            "Accuracy:  83.45\n"
          ]
        }
      ]
    },
    {
      "cell_type": "code",
      "source": [
        "# getting a CM\n",
        "confusion_matrix(y_test, y_pred)"
      ],
      "metadata": {
        "colab": {
          "base_uri": "https://localhost:8080/"
        },
        "id": "0bKDhtzYkeEu",
        "outputId": "2427da16-1009-455a-cbac-6994c84f8a99"
      },
      "execution_count": 16,
      "outputs": [
        {
          "output_type": "execute_result",
          "data": {
            "text/plain": [
              "array([[1454,  169],\n",
              "       [ 162,  215]])"
            ]
          },
          "metadata": {},
          "execution_count": 16
        }
      ]
    },
    {
      "cell_type": "code",
      "source": [
        "# printing a clf report\n",
        "print(classification_report(y_test, y_pred))"
      ],
      "metadata": {
        "colab": {
          "base_uri": "https://localhost:8080/"
        },
        "id": "u0FGmZDuxLJP",
        "outputId": "f5943933-83f3-4a8a-c410-2fb78caa4424"
      },
      "execution_count": 17,
      "outputs": [
        {
          "output_type": "stream",
          "name": "stdout",
          "text": [
            "              precision    recall  f1-score   support\n",
            "\n",
            "           0       0.90      0.90      0.90      1623\n",
            "           1       0.56      0.57      0.57       377\n",
            "\n",
            "    accuracy                           0.83      2000\n",
            "   macro avg       0.73      0.73      0.73      2000\n",
            "weighted avg       0.84      0.83      0.84      2000\n",
            "\n"
          ]
        }
      ]
    },
    {
      "cell_type": "code",
      "source": [
        "# plotting the loss\n",
        "plt.plot(history.history['loss'], label='Training')\n",
        "plt.plot(history.history['val_loss'], label='Validation')\n",
        "plt.xlabel('Epochs')\n",
        "plt.ylabel('Loss')\n",
        "plt.title('Loss Evaluation', size=12)\n",
        "plt.legend();"
      ],
      "metadata": {
        "colab": {
          "base_uri": "https://localhost:8080/",
          "height": 295
        },
        "id": "bsF_iLQO12J5",
        "outputId": "5431cbc2-995d-40d6-d325-c74698cd4c6b"
      },
      "execution_count": 18,
      "outputs": [
        {
          "output_type": "display_data",
          "data": {
            "text/plain": [
              "<Figure size 432x288 with 1 Axes>"
            ],
            "image/png": "[encoded data removed]"
          },
          "metadata": {
            "needs_background": "light"
          }
        }
      ]
    },
    {
      "cell_type": "code",
      "source": [
        "# plotting the accuracy\n",
        "plt.plot(history.history['accuracy'], label='Training')\n",
        "plt.plot(history.history['val_accuracy'], label='Validation')\n",
        "plt.xlabel('Epochs')\n",
        "plt.ylabel('Accuracy')\n",
        "plt.title('Accuracy Evaluation', size=12)\n",
        "plt.legend();"
      ],
      "metadata": {
        "colab": {
          "base_uri": "https://localhost:8080/",
          "height": 295
        },
        "id": "TL8KSMpN13Jk",
        "outputId": "7453abc0-ddc5-49b8-bc06-6bb9b7ea7de4"
      },
      "execution_count": 19,
      "outputs": [
        {
          "output_type": "display_data",
          "data": {
            "text/plain": [
              "<Figure size 432x288 with 1 Axes>"
            ],
            "image/png": "[encoded data removed]"
          },
          "metadata": {
            "needs_background": "light"
          }
        }
      ]
    }
  ]
}